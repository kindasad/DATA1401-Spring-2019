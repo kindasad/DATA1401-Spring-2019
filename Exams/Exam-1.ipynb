{
 "cells": [
  {
   "cell_type": "markdown",
   "metadata": {},
   "source": [
    "2.Matrix Representation\n",
    "\n",
    "a."
   ]
  },
  {
   "cell_type": "code",
   "execution_count": 2,
   "metadata": {},
   "outputs": [],
   "source": [
    "def constant(n,m,c):\n",
    "    out=[[c]*m]*n\n",
    "     \n",
    "    return out\n",
    "\n",
    "def zeros(n,m):\n",
    "    out=[[0]*m]*n\n",
    "     \n",
    "    return out\n",
    "def ones(n,m):\n",
    "    out=[[1]*m]*n\n",
    "     \n",
    "    return out"
   ]
  },
  {
   "cell_type": "code",
   "execution_count": 3,
   "metadata": {},
   "outputs": [
    {
     "name": "stdout",
     "output_type": "stream",
     "text": [
      "[[5, 5, 5], [5, 5, 5]]\n",
      "[[0, 0, 0], [0, 0, 0]]\n",
      "[[1, 1, 1], [1, 1, 1]]\n"
     ]
    }
   ],
   "source": [
    "print constant(2,3,5)\n",
    "print zeros(2,3)\n",
    "print ones(2,3)"
   ]
  },
  {
   "cell_type": "markdown",
   "metadata": {},
   "source": [
    " b."
   ]
  },
  {
   "cell_type": "code",
   "execution_count": 4,
   "metadata": {},
   "outputs": [],
   "source": [
    "def zeros(n,m):\n",
    "    out=[[0]*m]*n\n",
    "     \n",
    "    return out\n",
    "def ones(n,m):\n",
    "    out=[[1]*m]*n\n",
    "     \n",
    "    return out"
   ]
  },
  {
   "cell_type": "code",
   "execution_count": 5,
   "metadata": {},
   "outputs": [
    {
     "name": "stdout",
     "output_type": "stream",
     "text": [
      "[[0, 0, 0], [0, 0, 0], [0, 0, 0]]\n",
      "[[1, 1, 1, 1], [1, 1, 1, 1], [1, 1, 1, 1], [1, 1, 1, 1]]\n"
     ]
    }
   ],
   "source": [
    "print zeros(3,3)\n",
    "print ones(4,4)"
   ]
  },
  {
   "cell_type": "markdown",
   "metadata": {},
   "source": [
    "c."
   ]
  },
  {
   "cell_type": "code",
   "execution_count": 6,
   "metadata": {},
   "outputs": [],
   "source": [
    "def eye(n):\n",
    "    out=[[0 for i in range(n)] for j in range(n)]\n",
    "    \n",
    "    for i in range (0,n):\n",
    "        \n",
    "        out[i][i]=1\n",
    "    return out "
   ]
  },
  {
   "cell_type": "code",
   "execution_count": 7,
   "metadata": {},
   "outputs": [
    {
     "name": "stdout",
     "output_type": "stream",
     "text": [
      "[[1, 0, 0], [0, 1, 0], [0, 0, 1]]\n"
     ]
    }
   ],
   "source": [
    "print eye(3)"
   ]
  },
  {
   "cell_type": "markdown",
   "metadata": {
    "collapsed": true
   },
   "source": [
    "3.Slicing\n",
    "\n",
    "a."
   ]
  },
  {
   "cell_type": "code",
   "execution_count": 8,
   "metadata": {},
   "outputs": [],
   "source": [
    "def shape(M):\n",
    "    for i in range (0,len(M)):\n",
    "        for j in range (0,len(M)):\n",
    "            if len(M[i])!=len(M[j]):\n",
    "                return False\n",
    "    row=len(M)\n",
    "    co=len(M[0])\n",
    "    return row,co"
   ]
  },
  {
   "cell_type": "code",
   "execution_count": 9,
   "metadata": {},
   "outputs": [
    {
     "name": "stdout",
     "output_type": "stream",
     "text": [
      "False\n",
      "(2, 2)\n",
      "[[1, 0], [0, 1]]\n"
     ]
    }
   ],
   "source": [
    "print shape([[1,2],[1],[1,2,3]])\n",
    "print shape(eye(2))\n",
    "print eye(2)"
   ]
  },
  {
   "cell_type": "markdown",
   "metadata": {},
   "source": [
    "b."
   ]
  },
  {
   "cell_type": "code",
   "execution_count": 10,
   "metadata": {},
   "outputs": [],
   "source": [
    "def row(M,n):\n",
    "    return M[n-1]\n",
    "def column(M,n):\n",
    "    out=[]\n",
    "    for i in range(0,len(M)):\n",
    "        out.append(M[i][n-1])\n",
    "    return out"
   ]
  },
  {
   "cell_type": "code",
   "execution_count": 11,
   "metadata": {},
   "outputs": [
    {
     "name": "stdout",
     "output_type": "stream",
     "text": [
      "[[1, 0], [0, 1]]\n",
      "[0, 1]\n",
      "[0, 1, 0]\n"
     ]
    }
   ],
   "source": [
    "print eye(2)\n",
    "print row(eye(2),2)\n",
    "print column(eye(3),2)"
   ]
  },
  {
   "cell_type": "markdown",
   "metadata": {},
   "source": [
    "c."
   ]
  },
  {
   "cell_type": "code",
   "execution_count": 12,
   "metadata": {},
   "outputs": [],
   "source": [
    "def block(M,n_0,n_1,m_0,m_1):\n",
    "    a=n_1-n_0+1\n",
    "    b=m_1-m_0+1\n",
    "    out=[[0 for i in range(a)] for j in range(b)]\n",
    "    c=0 \n",
    "     \n",
    "    for i in range(n_0-1,n_1):\n",
    "        d=0\n",
    "        for j in range(m_0-1,m_1):\n",
    "            out[c][d]=M[i][j]\n",
    "            d=d+1\n",
    "        c=c+1\n",
    "    return out"
   ]
  },
  {
   "cell_type": "code",
   "execution_count": 13,
   "metadata": {},
   "outputs": [
    {
     "name": "stdout",
     "output_type": "stream",
     "text": [
      "[[1, 0, 0, 0, 0], [0, 1, 0, 0, 0], [0, 0, 1, 0, 0], [0, 0, 0, 1, 0], [0, 0, 0, 0, 1]]\n",
      "[[1, 0, 0], [0, 1, 0], [0, 0, 1]]\n"
     ]
    }
   ],
   "source": [
    "print eye(5)\n",
    "print block(eye(5),1,3,1,3)"
   ]
  },
  {
   "cell_type": "markdown",
   "metadata": {},
   "source": [
    "4.Matrix Operation\n",
    "\n",
    "a"
   ]
  },
  {
   "cell_type": "code",
   "execution_count": 14,
   "metadata": {},
   "outputs": [],
   "source": [
    "def transpose(m):\n",
    "    n=len(m)\n",
    "    out=[[0 for i in range(n)] for j in range(n)]\n",
    "     \n",
    "    for i in range(0,len(m)):\n",
    "         \n",
    "        for j in range(0,len(m)):\n",
    "              out[i][j]=m[j][i]\n",
    "    return out"
   ]
  },
  {
   "cell_type": "code",
   "execution_count": 15,
   "metadata": {},
   "outputs": [
    {
     "name": "stdout",
     "output_type": "stream",
     "text": [
      "[[1, 1, 1], [2, 2, 2], [3, 3, 3]]\n"
     ]
    }
   ],
   "source": [
    "print transpose([[1,2,3],\n",
    "                 [1,2,3],\n",
    "                 [1,2,3]])"
   ]
  },
  {
   "cell_type": "markdown",
   "metadata": {},
   "source": [
    "b."
   ]
  },
  {
   "cell_type": "code",
   "execution_count": 16,
   "metadata": {},
   "outputs": [],
   "source": [
    "def Scalarmul(M,c):\n",
    "    n=len(M)\n",
    "    for i in range(0,n): \n",
    "        for j in range(0,n):\n",
    "            M[i][j]=M[i][j]*c\n",
    "    return M"
   ]
  },
  {
   "cell_type": "code",
   "execution_count": 17,
   "metadata": {},
   "outputs": [
    {
     "name": "stdout",
     "output_type": "stream",
     "text": [
      "[[2, 0], [0, 2]]\n"
     ]
    }
   ],
   "source": [
    "print Scalarmul(eye(2),2)"
   ]
  },
  {
   "cell_type": "markdown",
   "metadata": {},
   "source": [
    "c."
   ]
  },
  {
   "cell_type": "code",
   "execution_count": 18,
   "metadata": {},
   "outputs": [],
   "source": [
    "def add(M,N):\n",
    "    if len(M)!=len(N) or len(M[0])!=len(N[0]):\n",
    "        return False=-\n",
    "    n=len(M)\n",
    "    out=[[0 for i in range(n)] for j in range(n)]\n",
    "     \n",
    "    for i in range (0,len(M)):\n",
    "        for j in range(0,len(M)):\n",
    "            out[i][j]=M[i][j]+N[i][j]\n",
    "    return out"
   ]
  },
  {
   "cell_type": "code",
   "execution_count": 19,
   "metadata": {},
   "outputs": [
    {
     "name": "stdout",
     "output_type": "stream",
     "text": [
      "[[1, 0], [0, 1]]\n",
      "[[2, 0], [0, 2]]\n"
     ]
    }
   ],
   "source": [
    "print eye(2)\n",
    "print add(eye(2),eye(2))"
   ]
  },
  {
   "cell_type": "markdown",
   "metadata": {},
   "source": [
    "d."
   ]
  },
  {
   "cell_type": "code",
   "execution_count": 20,
   "metadata": {},
   "outputs": [],
   "source": [
    "def sub(M,N):\n",
    "    a=Scalarmul(N,-1)\n",
    "    out=add(M,a)\n",
    "    return out"
   ]
  },
  {
   "cell_type": "code",
   "execution_count": 21,
   "metadata": {},
   "outputs": [
    {
     "name": "stdout",
     "output_type": "stream",
     "text": [
      "[[1, 0], [0, 1]]\n",
      "[[0, 0], [0, 0]]\n"
     ]
    }
   ],
   "source": [
    "print eye(2)\n",
    "print sub(eye(2),eye(2))"
   ]
  },
  {
   "cell_type": "markdown",
   "metadata": {},
   "source": [
    "e."
   ]
  },
  {
   "cell_type": "code",
   "execution_count": 22,
   "metadata": {},
   "outputs": [],
   "source": [
    "def elementmult(M,N):\n",
    "     \n",
    "    n=len(M)\n",
    "    out=[[0 for i in range(n)] for j in range(n)]\n",
    "     \n",
    "    for i in range (0,len(M)):\n",
    "        for j in range(0,len(M)):\n",
    "            out[i][j]=M[i][j]*N[i][j]\n",
    "    return out"
   ]
  },
  {
   "cell_type": "code",
   "execution_count": 23,
   "metadata": {},
   "outputs": [
    {
     "name": "stdout",
     "output_type": "stream",
     "text": [
      "[[1, 0], [0, 1]]\n",
      "[[1, 0], [0, 1]]\n"
     ]
    }
   ],
   "source": [
    "print eye(2)\n",
    "print elementmult(eye(2),eye(2))"
   ]
  },
  {
   "cell_type": "markdown",
   "metadata": {},
   "source": [
    "f."
   ]
  },
  {
   "cell_type": "code",
   "execution_count": 24,
   "metadata": {},
   "outputs": [],
   "source": [
    "def mul(a,b):\n",
    "    out=[]\n",
    "    for i in range(0,len(a)):\n",
    "        out.append(a[i]*b[i])\n",
    "    return out\n",
    "def matmult(M,N):\n",
    "    if len(M)==1:\n",
    "        if len(M[0])!=len(N):\n",
    "            return False\n",
    "    if len(M[0])!=len(N):\n",
    "        return False\n",
    "    n=len(N[0])\n",
    "    m=len(M)\n",
    "    out=[[0 for i in range(n)] for j in range(m)]\n",
    "    b=transpose(N)\n",
    "    for i in range (0,m):\n",
    "        for j in range(0,n):\n",
    "            a=sum(mul(M[i],b[j]))\n",
    "            out[i][j]=a\n",
    "    return out\n",
    "    "
   ]
  },
  {
   "cell_type": "code",
   "execution_count": 25,
   "metadata": {},
   "outputs": [
    {
     "name": "stdout",
     "output_type": "stream",
     "text": [
      "[[4, 4], [3, 3]]\n"
     ]
    }
   ],
   "source": [
    "M=[[1,2],[1,1]]\n",
    "N=[[2,2],[1,1]]\n",
    "print (matmult(M,N))"
   ]
  },
  {
   "cell_type": "markdown",
   "metadata": {},
   "source": [
    " g."
   ]
  },
  {
   "cell_type": "code",
   "execution_count": 26,
   "metadata": {},
   "outputs": [],
   "source": [
    "def dot(a,b):\n",
    "    if len(a)!=len(b):\n",
    "        return False\n",
    "    return sum(map(lambda x,y:x*y, a,b))\n",
    "def outer(a,b):\n",
    "    m=len(a)\n",
    "    n=len(b)\n",
    "    out=[[0 for i in range(n)] for j in range(m)]\n",
    "    for i in range (0,m):\n",
    "        for j in range(0,n):\n",
    "            out[i][j]=a[i]*b[j]\n",
    "    return out\n",
    "    "
   ]
  },
  {
   "cell_type": "code",
   "execution_count": 27,
   "metadata": {},
   "outputs": [
    {
     "name": "stdout",
     "output_type": "stream",
     "text": [
      "8\n",
      "[[4, 6]]\n"
     ]
    }
   ],
   "source": [
    "print dot([1,2],[2,3])\n",
    "print outer([2],[2,3])"
   ]
  },
  {
   "cell_type": "markdown",
   "metadata": {},
   "source": [
    "5.Norms"
   ]
  },
  {
   "cell_type": "code",
   "execution_count": 28,
   "metadata": {},
   "outputs": [],
   "source": [
    "import math\n",
    "def norm(M,x):\n",
    "    n=len(M)\n",
    "    a=0\n",
    "    out=[[0 for i in range(n)] for j in range(n)]\n",
    "    for i in range(0,len(M)):\n",
    "         for j in range (0,len(M[0])):\n",
    "                 \n",
    "                a=a+abs(M[i][j]**x)\n",
    "        \n",
    "    a=a**(1.0/x)\n",
    "    return a"
   ]
  },
  {
   "cell_type": "code",
   "execution_count": 29,
   "metadata": {},
   "outputs": [
    {
     "name": "stdout",
     "output_type": "stream",
     "text": [
      "3.0\n"
     ]
    }
   ],
   "source": [
    "print norm([[1],[2],[3]],100)"
   ]
  },
  {
   "cell_type": "markdown",
   "metadata": {},
   "source": [
    "6.Linear Algebre"
   ]
  },
  {
   "cell_type": "code",
   "execution_count": 30,
   "metadata": {},
   "outputs": [],
   "source": [
    "import math\n",
    "def compare(M):\n",
    "    a=len(M)\n",
    "    for i in range(0,a):\n",
    "         if abs(M[i][i]-1)>0.1:\n",
    "                return False\n",
    "    return True\n",
    "def copy(M):\n",
    "    n=len(M)\n",
    "    out=[[0 for i in range(n)] for j in range(n)]\n",
    "    for i in range (0,n):\n",
    "        for j in range (0,n):\n",
    "            out[i][j]=M[i][j]\n",
    "    return out\n",
    "def inv(M):\n",
    "     \n",
    "    A=copy(M)\n",
    "     \n",
    "     \n",
    "     \n",
    "     \n",
    "    p=0\n",
    "    d=1\n",
    "    while True: \n",
    "            if p>=len(M):\n",
    "                break\n",
    "            if M[p][p]==0:\n",
    "                break\n",
    "            d=d*M[p][p]\n",
    "             \n",
    "                    \n",
    "            for i in range (0,len(M)):\n",
    "                if i!=p:\n",
    "                    M[i][p]=-M[i][p]/M[p][p]\n",
    "                   \n",
    "            for i in range (0,len(M)):\n",
    "                for j in range (0,len(M)):\n",
    "                    if i!=p and j!=p:\n",
    "                        M[i][j]=M[i][j]+M[p][j]*M[i][p]\n",
    "            for j in range (0,len(M)):\n",
    "                if j!=p:\n",
    "                    M[p][j]=M[p][j]/M[p][p]            \n",
    "            M[p][p]=1.0/M[p][p]\n",
    "            \n",
    "            p=p+1\n",
    "            if compare(matmult(M,A)):   \n",
    "                print 'yes'\n",
    "                return M\n",
    "     \n",
    "    \n",
    "    print \"nope\"\n",
    "    return False"
   ]
  },
  {
   "cell_type": "code",
   "execution_count": 32,
   "metadata": {},
   "outputs": [
    {
     "name": "stdout",
     "output_type": "stream",
     "text": [
      "yes\n",
      "[[1.0, 0, 0, 0], [0, 1, 0, 0], [0, 0, 1, 0], [0, 0, 0, 1]]\n",
      "yes\n",
      "[[0.5, 0.5], [0.0, 0.1111111111111111]]\n",
      "yes\n",
      "[[-40.0, 16.0, 9.0], [13.0, -5.0, -3.0], [5.0, -2.0, -1.0]]\n",
      "yes\n",
      "[[0.3999999999999999, 0.2], [0.3, -0.1]]\n"
     ]
    }
   ],
   "source": [
    "M=[[1.0,2.0,3.0,4.0,5.0],[1.0,3.0,3.0,4.0,5.0],[1.0,9.0,3.0,4.0,5.0],[1.0,8.0,3.0,4.0,5.0],[1.0,6.0,3.0,4.0,5.0]]\n",
    "print inv(eye(4))\n",
    "a=[[2.0,-9.0],[0,9.0]]\n",
    "print inv(a)\n",
    "b=[[1.0,2.0,3.0],[2.0,5.0,3.0],[1.0,0,8]]\n",
    "print inv(b)\n",
    "c=[[1.0,2.0],[3.0,-4.0]]\n",
    "print inv(c)\n",
    "   "
   ]
  },
  {
   "cell_type": "code",
   "execution_count": null,
   "metadata": {
    "collapsed": true
   },
   "outputs": [],
   "source": []
  },
  {
   "cell_type": "code",
   "execution_count": null,
   "metadata": {
    "collapsed": true
   },
   "outputs": [],
   "source": [
    " "
   ]
  },
  {
   "cell_type": "code",
   "execution_count": 197,
   "metadata": {},
   "outputs": [
    {
     "name": "stdout",
     "output_type": "stream",
     "text": [
      "2\n",
      "3\n",
      "6\n"
     ]
    }
   ],
   "source": [
    "a=[[1,2,3],[1,2,3],[1,2,3]]\n",
    "print a[1][1]\n",
    "print len(a)\n",
    "print sum(a[1])"
   ]
  },
  {
   "cell_type": "code",
   "execution_count": 107,
   "metadata": {},
   "outputs": [
    {
     "name": "stdout",
     "output_type": "stream",
     "text": [
      "[[1, 2, 3], [1, 2, 3], [1, 2, 3]]\n"
     ]
    }
   ],
   "source": [
    "print matmult(eye(3),[[1,2,3],[1,2,3],[1,2,3]])"
   ]
  },
  {
   "cell_type": "code",
   "execution_count": 108,
   "metadata": {},
   "outputs": [
    {
     "data": {
      "text/plain": [
       "1"
      ]
     },
     "execution_count": 108,
     "metadata": {},
     "output_type": "execute_result"
    }
   ],
   "source": [
    "abs(-1)"
   ]
  },
  {
   "cell_type": "code",
   "execution_count": null,
   "metadata": {
    "collapsed": true
   },
   "outputs": [],
   "source": []
  }
 ],
 "metadata": {
  "kernelspec": {
   "display_name": "Python 2",
   "language": "python",
   "name": "python2"
  },
  "language_info": {
   "codemirror_mode": {
    "name": "ipython",
    "version": 2
   },
   "file_extension": ".py",
   "mimetype": "text/x-python",
   "name": "python",
   "nbconvert_exporter": "python",
   "pygments_lexer": "ipython2",
   "version": "2.7.15"
  }
 },
 "nbformat": 4,
 "nbformat_minor": 2
}
