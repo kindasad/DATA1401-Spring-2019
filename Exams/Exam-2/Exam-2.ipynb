{
 "cells": [
  {
   "cell_type": "markdown",
   "metadata": {},
   "source": [
    "# Exam 2\n",
    "\n",
    "We are going to keep working on the grade book system we have been building in class. The version of the grade book presented in lecture 17 has been copied into `gradebook.py`, so we can simply load it using:"
   ]
  },
  {
   "cell_type": "code",
   "execution_count": 55,
   "metadata": {},
   "outputs": [],
   "source": [
    "from gradebook import *"
   ]
  },
  {
   "cell_type": "markdown",
   "metadata": {},
   "source": [
    "Recall that we can build a grade book from a CSV file with the following example, which now has been wrapped up into a function."
   ]
  },
  {
   "cell_type": "code",
   "execution_count": 56,
   "metadata": {},
   "outputs": [],
   "source": [
    "import pandas as pd\n",
    "\n",
    "def load_class(filename):\n",
    "    class_data=pd.read_csv(filename)\n",
    "\n",
    "    a_grade_book=grade_book(\"Data 1401\")\n",
    "\n",
    "    for student_i in range(class_data.shape[0]):\n",
    "        a_student_0=student(\"Student\",str(student_i),student_i)\n",
    "\n",
    "        for k in class_data.keys():\n",
    "            a_student_0.add_grade(grade(k,value=class_data[k][student_i]))\n",
    "\n",
    "        a_grade_book.add_student(a_student_0)\n",
    "        \n",
    "    return a_grade_book\n",
    "\n",
    "my_grade_book=load_class(\"Data1401-Grades.csv\")"
   ]
  },
  {
   "cell_type": "markdown",
   "metadata": {},
   "source": [
    "You may use all of the classes from this version of the grade book for the exam.\n",
    "\n",
    "## CSV Reader Revisited\n",
    "\n",
    "Recall the CSV reader we wrote in class:"
   ]
  },
  {
   "cell_type": "code",
   "execution_count": 57,
   "metadata": {},
   "outputs": [
    {
     "name": "stdout",
     "output_type": "stream",
     "text": [
      "0.0\n"
     ]
    }
   ],
   "source": [
    "def csv_reader_0(filename):\n",
    "    file_obj = open(filename,\"r\")\n",
    "\n",
    "    data=list()\n",
    "\n",
    "    first = True\n",
    "    \n",
    "    for line in file_obj:\n",
    "        line=line.strip(\"\\r\\n\")\n",
    "        if first:\n",
    "            first=False\n",
    "            keys = line.split(\",\")\n",
    "        else:\n",
    "            values=map(float,line.split(\",\"))\n",
    "            this_line=dict()\n",
    "            \n",
    "            for k,v in zip(keys,values):\n",
    "                this_line[k]=v\n",
    "\n",
    "            data.append(this_line)\n",
    "            \n",
    "    file_obj.close()\n",
    "    \n",
    "    return data\n",
    "\n",
    "# Test with: \n",
    "loaded_data=csv_reader_0(\"Data1401-Grades.csv\")\n",
    "print loaded_data[1]['l2_1']\n"
   ]
  },
  {
   "cell_type": "markdown",
   "metadata": {},
   "source": [
    "*Question 1:* Convert the load function below to work with this data structure. This should be trivial since the data structure created by `csv_reader_0` should present a similar interface to pandas' `dataframe`."
   ]
  },
  {
   "cell_type": "code",
   "execution_count": 58,
   "metadata": {},
   "outputs": [],
   "source": [
    "# Convert this function\n",
    "\n",
    "def load_class_0(filename):\n",
    "    class_data=pd.read_csv(filename)\n",
    "\n",
    "    a_grade_book=grade_book(\"Data 1401\")\n",
    "\n",
    "    for student_i in range(class_data.shape[0]):\n",
    "        a_student_0=student(\"Student\",str(student_i),student_i)\n",
    "\n",
    "        for k in class_data.keys():\n",
    "            a_student_0.add_grade(grade(k,value=class_data[k][student_i]))\n",
    "\n",
    "        a_grade_book.add_student(a_student_0)\n",
    "        \n",
    "    return a_grade_book\n",
    "\n",
    "# Test with:\n",
    "my_grade_book_0=load_class_0(\"Data1401-Grades.csv\")"
   ]
  },
  {
   "cell_type": "markdown",
   "metadata": {},
   "source": [
    "*Question 1:* Start with the `csv_reader` function above which presently returns the data it loads as a list of dictionaries, where each element of the list is corresponds to a row of data and the dictionaries are keyed by the column name. For example `data[5][\"l3_5\"]` corresponds to the 6th student's grade on lab 3 question 5. Convert it to instead output a list of lists (i.e. a 2-D array or matrix) and a dictionary, where each element of the \"matrix\" corresponds to a a specific grade for a specific student and the dictionary maps the name of the column to the column index. For example `data[5][column_names[\"l1_5\"]]` would correspond to the 6th student's grade on lab 3 question 5. Next, convert the `load_class` function."
   ]
  },
  {
   "cell_type": "code",
   "execution_count": 59,
   "metadata": {},
   "outputs": [
    {
     "name": "stdout",
     "output_type": "stream",
     "text": [
      "10.0\n"
     ]
    }
   ],
   "source": [
    "# Convert this function\n",
    "def csv_reader_1(filename):\n",
    "    file_obj = open(filename,\"r\")\n",
    "    \n",
    "    data=list()\n",
    "     \n",
    "    first = True\n",
    "    column_names=dict()\n",
    "    for line in file_obj:\n",
    "        data1=list()\n",
    "        line=line.strip(\"\\r\\n\")\n",
    "        if first:\n",
    "            first=False\n",
    "            keys = line.split(\",\")\n",
    "            for i in range(len(keys)):\n",
    "                column_names[keys[i]]=i\n",
    "        else:\n",
    "            values=map(float,line.split(\",\"))\n",
    "             \n",
    "            \n",
    "            for i in range(len(keys)):\n",
    "                 data1.append(values[i])\n",
    "            data.append(data1)\n",
    "        \n",
    "            \n",
    "    file_obj.close()\n",
    "    \n",
    "    return data,column_names\n",
    "\n",
    "# Test with: \n",
    "loaded_data_1,column_names=csv_reader_1(\"Data1401-Grades.csv\")\n",
    " \n",
    "print  loaded_data_1[5][column_names[\"l1_1\"]]"
   ]
  },
  {
   "cell_type": "code",
   "execution_count": 60,
   "metadata": {},
   "outputs": [
    {
     "name": "stdout",
     "output_type": "stream",
     "text": [
      "Student 0 Student Data l1_1: 10.0\n",
      "Student 1 Student Data l1_1: 10.0\n",
      "Student 2 Student Data l1_1: 10.0\n",
      "Student 3 Student Data l1_1: 10.0\n",
      "Student 4 Student Data l1_1: 10.0\n",
      "Student 5 Student Data l1_1: 10.0\n",
      "Student 6 Student Data l1_1: 10.0\n",
      "Student 7 Student Data l1_1: 10.0\n",
      "Student 8 Student Data l1_1: 10.0\n",
      "Student 9 Student Data l1_1: 10.0\n",
      "Student 10 Student Data l1_1: 10.0\n",
      "Student 11 Student Data l1_1: 10.0\n",
      "Student 12 Student Data l1_1: 10.0\n",
      "Student 13 Student Data l1_1: 10.0\n",
      "Student 14 Student Data l1_1: 10.0\n",
      "Student 15 Student Data l1_1: 10.0\n"
     ]
    }
   ],
   "source": [
    "# Convert this function\n",
    "\n",
    "def load_class_1(filename):\n",
    "    class_data,row=csv_reader_1(filename)\n",
    "    \n",
    "    a_grade_book=grade_book(\"Data 1401\")\n",
    "\n",
    "    for student_i in range(len(class_data)):\n",
    "        a_student_0=student(\"Student\",str(student_i),student_i)\n",
    "\n",
    "        for k in row.keys():\n",
    "            a_student_0.add_grade(grade(k,value=class_data[student_i][row[k]]))\n",
    "\n",
    "        a_grade_book.add_student(a_student_0)\n",
    "        \n",
    "    return a_grade_book\n",
    "\n",
    "# Test with:\n",
    "my_grade_book_1=load_class_1(\"Data1401-Grades.csv\")\n",
    "my_grade_book_1.print_grades('l1_1')\n",
    " "
   ]
  },
  {
   "cell_type": "markdown",
   "metadata": {},
   "source": [
    "*Question 2:* Now convert the function to output a dictionary of lists, where each element of the dictionary corresponds to a column of data and the lists contain the data in that column. For example `data[\"l3_5\"][5]` would correspond to the 6th student's grade on lab 3 question 5. Next, convert the `load_class` function.\n"
   ]
  },
  {
   "cell_type": "code",
   "execution_count": 61,
   "metadata": {
    "scrolled": false
   },
   "outputs": [
    {
     "name": "stdout",
     "output_type": "stream",
     "text": [
      "16\n",
      "l4_11\n"
     ]
    }
   ],
   "source": [
    "# Convert this function\n",
    "def csv_reader_2(filename):\n",
    "    data=dict()\n",
    "    file_obj = open(filename,\"r\")\n",
    "    keys = file_obj.readline().split(\",\")\n",
    "     \n",
    "     \n",
    "     \n",
    "    for i in range(len(keys)): \n",
    "        this_line=list()\n",
    "        file_obj = open(filename,\"r\")\n",
    "        file_obj.readline()\n",
    "        for line in file_obj:\n",
    "            line=line.strip(\"\\r\\n\")\n",
    "            values=map(float,line.split(\",\"))\n",
    "             \n",
    "            this_line.append(values[i])\n",
    "         \n",
    "        data[keys[i]]=this_line\n",
    "       \n",
    "    file_obj.close()\n",
    "    \n",
    "    return data\n",
    "\n",
    "loaded_data_2=csv_reader_2(\"Data1401-Grades.csv\")\n",
    "print len(loaded_data_2[\"l3_5\"])\n",
    "print loaded_data_2.keys()[1]"
   ]
  },
  {
   "cell_type": "code",
   "execution_count": 62,
   "metadata": {},
   "outputs": [
    {
     "name": "stdout",
     "output_type": "stream",
     "text": [
      "Student 0 Student Data l1_1: 10.0\n",
      "Student 1 Student Data l1_1: 10.0\n",
      "Student 2 Student Data l1_1: 10.0\n",
      "Student 3 Student Data l1_1: 10.0\n",
      "Student 4 Student Data l1_1: 10.0\n",
      "Student 5 Student Data l1_1: 10.0\n",
      "Student 6 Student Data l1_1: 10.0\n",
      "Student 7 Student Data l1_1: 10.0\n",
      "Student 8 Student Data l1_1: 10.0\n",
      "Student 9 Student Data l1_1: 10.0\n",
      "Student 10 Student Data l1_1: 10.0\n",
      "Student 11 Student Data l1_1: 10.0\n",
      "Student 12 Student Data l1_1: 10.0\n",
      "Student 13 Student Data l1_1: 10.0\n",
      "Student 14 Student Data l1_1: 10.0\n",
      "Student 15 Student Data l1_1: 10.0\n",
      ".....\n"
     ]
    }
   ],
   "source": [
    "# Convert this function\n",
    "\n",
    "def load_class_2(filename):\n",
    "    class_data=csv_reader_2(filename)\n",
    "\n",
    "    a_grade_book=grade_book(\"Data 1401\")\n",
    "\n",
    "    for student_i in range(len(class_data[loaded_data_2.keys()[0]])):\n",
    "        a_student_0=student(\"Student\",str(student_i),student_i)\n",
    "\n",
    "        for k in class_data.keys():\n",
    "            a_student_0.add_grade(grade(k,value= class_data[k][student_i]))\n",
    "\n",
    "        a_grade_book.add_student(a_student_0)\n",
    "    return a_grade_book\n",
    "\n",
    "# Test with:\n",
    "my_grade_book_2=load_class_2(\"Data1401-Grades.csv\")\n",
    "my_grade_book_2.print_grades('l1_1')\n",
    "print '.....'\n",
    "my_grade_book_2.print_data()"
   ]
  },
  {
   "cell_type": "markdown",
   "metadata": {
    "collapsed": true
   },
   "source": [
    "*Question 3:* Now convert the function so that the fields that it reads do not have to be numbers. When reading parsing a field, check it can be converted to a float, if not, then store it as a string. Note the different test file for this function, which now had names added as a column. Modify the `load_class` function to use this reader, using the name read from the file.\n"
   ]
  },
  {
   "cell_type": "code",
   "execution_count": 63,
   "metadata": {},
   "outputs": [
    {
     "name": "stdout",
     "output_type": "stream",
     "text": [
      "FirstName 1 \n"
     ]
    }
   ],
   "source": [
    "# Convert this function\n",
    "def csv_reader(filename):\n",
    "    file_obj = open(filename,\"r\")\n",
    "\n",
    "    data=list()\n",
    "\n",
    "    first = True\n",
    "    \n",
    "    for line in file_obj:\n",
    "        line=line.strip(\"\\r\\n\")\n",
    "        if first:\n",
    "            first=False\n",
    "            keys = line.split(\",\")\n",
    "             \n",
    "        else:\n",
    "            values=line.split(\",\")\n",
    "            lis=list()\n",
    "            for i in range(len(keys)):\n",
    "                try:\n",
    "                    it=float(values[i])\n",
    "                except:\n",
    "                    it=str(values[i])\n",
    "                lis.append(it)\n",
    "            this_line=dict()\n",
    "            \n",
    "            for k,v in zip(keys,lis):\n",
    "                this_line[k]=v\n",
    "\n",
    "            data.append(this_line)\n",
    "            \n",
    "    file_obj.close()\n",
    "    \n",
    "    return data\n",
    "\n",
    "# Test with: \n",
    "loaded_data=csv_reader(\"Data1401-Grades-Strings.csv\")\n",
    "print loaded_data[0]['first name']\n",
    " "
   ]
  },
  {
   "cell_type": "code",
   "execution_count": 64,
   "metadata": {},
   "outputs": [
    {
     "name": "stdout",
     "output_type": "stream",
     "text": [
      "Student 0 Student Data l1_1: 10.0\n",
      "Student 1 Student Data l1_1: 10.0\n",
      "Student 2 Student Data l1_1: 10.0\n",
      "Student 3 Student Data l1_1: 10.0\n",
      "Student 4 Student Data l1_1: 10.0\n",
      "Student 5 Student Data l1_1: 10.0\n",
      "Student 6 Student Data l1_1: 10.0\n",
      "Student 7 Student Data l1_1: 10.0\n",
      "Student 8 Student Data l1_1: 10.0\n",
      "Student 9 Student Data l1_1: 10.0\n",
      "Student 10 Student Data l1_1: 10.0\n",
      "Student 11 Student Data l1_1: 10.0\n",
      "Student 12 Student Data l1_1: 10.0\n",
      "Student 13 Student Data l1_1: 10.0\n",
      "Student 14 Student Data l1_1: 10.0\n",
      "Student 15 Student Data l1_1: 10.0\n"
     ]
    }
   ],
   "source": [
    "# Convert this function\n",
    "\n",
    "def load_class(filename):\n",
    "    class_data=csv_reader(filename)\n",
    "\n",
    "    a_grade_book=grade_book(\"Data 1401\")\n",
    "\n",
    "    for student_i in range(len(class_data)):\n",
    "        a_student_0=student(\"Student\",str(student_i),student_i)\n",
    "\n",
    "        for k in class_data[0].keys():\n",
    "            a_student_0.add_grade(grade(k,value=class_data[student_i][k]))\n",
    "\n",
    "        a_grade_book.add_student(a_student_0)\n",
    "        \n",
    "    return a_grade_book\n",
    "\n",
    "# Test with:\n",
    "my_grade_book=load_class(\"Data1401-Grades-Strings.csv\")\n",
    "my_grade_book.print_grades('l1_1')\n",
    " \n",
    " "
   ]
  },
  {
   "cell_type": "markdown",
   "metadata": {},
   "source": [
    "## Chaining Algorithms\n",
    "\n",
    "The following example curves the exam 1 grades:\n"
   ]
  },
  {
   "cell_type": "code",
   "execution_count": 65,
   "metadata": {},
   "outputs": [],
   "source": [
    "my_grade_book.apply_calculator(grade_summer(\"e1_\"),overwrite=True)\n",
    "my_grade_book.apply_calculator(mean_std_calculator(\"e1_sum\",60))\n",
    "my_grade_book.apply_calculator(curved_letter_grade(\"e1_sum\",my_grade_book[\"e1_sum Mean\"],my_grade_book[\"e1_sum STD\"]),overwrite=True)"
   ]
  },
  {
   "cell_type": "code",
   "execution_count": 66,
   "metadata": {},
   "outputs": [
    {
     "name": "stdout",
     "output_type": "stream",
     "text": [
      "Student 0 Student Data e1_sum: 35.0 e1_sum Letter: F-\n",
      "Student 1 Student Data e1_sum: 0 e1_sum Letter: F-\n",
      "Student 2 Student Data e1_sum: 20.0 e1_sum Letter: F-\n",
      "Student 3 Student Data e1_sum: 115.0 e1_sum Letter: B\n",
      "Student 4 Student Data e1_sum: 24.0 e1_sum Letter: F-\n",
      "Student 5 Student Data e1_sum: 95.0 e1_sum Letter: C-\n",
      "Student 6 Student Data e1_sum: 37.0 e1_sum Letter: F-\n",
      "Student 7 Student Data e1_sum: 77.0 e1_sum Letter: F+\n",
      "Student 8 Student Data e1_sum: 103.0 e1_sum Letter: C\n",
      "Student 9 Student Data e1_sum: 117.0 e1_sum Letter: B\n",
      "Student 10 Student Data e1_sum: 138.0 e1_sum Letter: A+\n",
      "Student 11 Student Data e1_sum: 110.0 e1_sum Letter: B-\n",
      "Student 12 Student Data e1_sum: 104.0 e1_sum Letter: C\n",
      "Student 13 Student Data e1_sum: 111.0 e1_sum Letter: B-\n",
      "Student 14 Student Data e1_sum: 103.0 e1_sum Letter: C\n",
      "Student 15 Student Data e1_sum: 134.0 e1_sum Letter: A\n"
     ]
    }
   ],
   "source": [
    "my_grade_book.print_grades([\"e1_sum\",\"e1_sum Letter\"])"
   ]
  },
  {
   "cell_type": "markdown",
   "metadata": {},
   "source": [
    "The following function generalizes curving you can use it to curve any grade:"
   ]
  },
  {
   "cell_type": "code",
   "execution_count": 67,
   "metadata": {},
   "outputs": [
    {
     "name": "stdout",
     "output_type": "stream",
     "text": [
      "l1_sum STD 0.0\n",
      "l1_sum Mean 10.0\n",
      "l1_sum Min 10.0\n",
      "l1_sum Max 10.0\n",
      "Student 0 Student Data l1_sum: 10.0 l1_sum Letter: F-\n",
      "Student 1 Student Data l1_sum: 10.0 l1_sum Letter: F-\n",
      "Student 2 Student Data l1_sum: 10.0 l1_sum Letter: F-\n",
      "Student 3 Student Data l1_sum: 10.0 l1_sum Letter: F-\n",
      "Student 4 Student Data l1_sum: 10.0 l1_sum Letter: F-\n",
      "Student 5 Student Data l1_sum: 10.0 l1_sum Letter: F-\n",
      "Student 6 Student Data l1_sum: 10.0 l1_sum Letter: F-\n",
      "Student 7 Student Data l1_sum: 10.0 l1_sum Letter: F-\n",
      "Student 8 Student Data l1_sum: 10.0 l1_sum Letter: F-\n",
      "Student 9 Student Data l1_sum: 10.0 l1_sum Letter: F-\n",
      "Student 10 Student Data l1_sum: 10.0 l1_sum Letter: F-\n",
      "Student 11 Student Data l1_sum: 10.0 l1_sum Letter: F-\n",
      "Student 12 Student Data l1_sum: 10.0 l1_sum Letter: F-\n",
      "Student 13 Student Data l1_sum: 10.0 l1_sum Letter: F-\n",
      "Student 14 Student Data l1_sum: 10.0 l1_sum Letter: F-\n",
      "Student 15 Student Data l1_sum: 10.0 l1_sum Letter: F-\n"
     ]
    }
   ],
   "source": [
    "def curve(a_grade_book,prefix,cut_off=None):\n",
    "    a_grade_book.apply_calculator(grade_summer(prefix),overwrite=True)\n",
    "    a_grade_book.apply_calculator(mean_std_calculator(prefix+\"sum\",cut_off))\n",
    "    a_grade_book.apply_calculator(curved_letter_grade(prefix+\"sum\",a_grade_book[prefix+\"sum Mean\"],a_grade_book[prefix+\"sum STD\"]),overwrite=True)\n",
    "    stats=a_grade_book.get_data(prefix)\n",
    "     \n",
    "    for k,v in stats.iteritems():\n",
    "        print k,v\n",
    "    a_grade_book.print_grades([prefix+\"sum\",prefix+\"sum Letter\"]) \n",
    "\n",
    "#XD \n",
    "curve(my_grade_book,'l1_',cut_off=None)"
   ]
  },
  {
   "cell_type": "code",
   "execution_count": 68,
   "metadata": {},
   "outputs": [
    {
     "name": "stdout",
     "output_type": "stream",
     "text": [
      "q1_sum Min 0\n",
      "q1_sum STD 4.46940554632\n",
      "q1_sum Mean 6.40625\n",
      "q1_sum Max 10.0\n",
      "Student 0 Student Data q1_sum: 9.5 q1_sum Letter: B\n",
      "Student 1 Student Data q1_sum: 0 q1_sum Letter: C\n",
      "Student 2 Student Data q1_sum: 5.0 q1_sum Letter: C\n",
      "Student 3 Student Data q1_sum: 10.0 q1_sum Letter: B+\n",
      "Student 4 Student Data q1_sum: 0 q1_sum Letter: C\n",
      "Student 5 Student Data q1_sum: 9.5 q1_sum Letter: B\n",
      "Student 6 Student Data q1_sum: 10.0 q1_sum Letter: B+\n",
      "Student 7 Student Data q1_sum: 10.0 q1_sum Letter: B+\n",
      "Student 8 Student Data q1_sum: 9.5 q1_sum Letter: B\n",
      "Student 9 Student Data q1_sum: 9.5 q1_sum Letter: B\n",
      "Student 10 Student Data q1_sum: 0 q1_sum Letter: C\n",
      "Student 11 Student Data q1_sum: 10.0 q1_sum Letter: B+\n",
      "Student 12 Student Data q1_sum: 10.0 q1_sum Letter: B+\n",
      "Student 13 Student Data q1_sum: 0 q1_sum Letter: C\n",
      "Student 14 Student Data q1_sum: 0 q1_sum Letter: C\n",
      "Student 15 Student Data q1_sum: 9.5 q1_sum Letter: B\n",
      "l3_sum Mean 73.3125\n",
      "l3_sum STD 38.3017929574\n",
      "l3_sum Max 126.0\n",
      "l3_sum Min 0\n",
      "Student 0 Student Data l3_sum: 9.0 l3_sum Letter: C\n",
      "Student 1 Student Data l3_sum: 0 l3_sum Letter: C-\n",
      "Student 2 Student Data l3_sum: 71.0 l3_sum Letter: C+\n",
      "Student 3 Student Data l3_sum: 102.0 l3_sum Letter: B+\n",
      "Student 4 Student Data l3_sum: 77.5 l3_sum Letter: B-\n",
      "Student 5 Student Data l3_sum: 89.0 l3_sum Letter: B\n",
      "Student 6 Student Data l3_sum: 64.5 l3_sum Letter: C+\n",
      "Student 7 Student Data l3_sum: 40.0 l3_sum Letter: C-\n",
      "Student 8 Student Data l3_sum: 40.0 l3_sum Letter: C-\n",
      "Student 9 Student Data l3_sum: 26.0 l3_sum Letter: C+\n",
      "Student 10 Student Data l3_sum: 126.0 l3_sum Letter: A\n",
      "Student 11 Student Data l3_sum: 97.5 l3_sum Letter: B\n",
      "Student 12 Student Data l3_sum: 115.0 l3_sum Letter: A-\n",
      "Student 13 Student Data l3_sum: 114.5 l3_sum Letter: A-\n",
      "Student 14 Student Data l3_sum: 95.0 l3_sum Letter: B\n",
      "Student 15 Student Data l3_sum: 106.0 l3_sum Letter: B+\n",
      "l4_sum Max 105.0\n",
      "l4_sum STD 30.4217746852\n",
      "l4_sum Mean 34.125\n",
      "l4_sum Min 0\n",
      "Student 0 Student Data l4_sum: 0 l4_sum Letter: C+\n",
      "Student 1 Student Data l4_sum: 0 l4_sum Letter: C+\n",
      "Student 2 Student Data l4_sum: 0 l4_sum Letter: C+\n",
      "Student 3 Student Data l4_sum: 75.0 l4_sum Letter: A\n",
      "Student 4 Student Data l4_sum: 26.0 l4_sum Letter: C+\n",
      "Student 5 Student Data l4_sum: 35.0 l4_sum Letter: B-\n",
      "Student 6 Student Data l4_sum: 30.0 l4_sum Letter: C+\n",
      "Student 7 Student Data l4_sum: 51.0 l4_sum Letter: B\n",
      "Student 8 Student Data l4_sum: 68.0 l4_sum Letter: A-\n",
      "Student 9 Student Data l4_sum: 27.0 l4_sum Letter: C+\n",
      "Student 10 Student Data l4_sum: 105.0 l4_sum Letter: A+\n",
      "Student 11 Student Data l4_sum: 51.0 l4_sum Letter: B\n",
      "Student 12 Student Data l4_sum: 0 l4_sum Letter: C+\n",
      "Student 13 Student Data l4_sum: 25.0 l4_sum Letter: C+\n",
      "Student 14 Student Data l4_sum: 0 l4_sum Letter: C+\n",
      "Student 15 Student Data l4_sum: 53.0 l4_sum Letter: B\n",
      "e1_sum Mean 82.6875\n",
      "e1_sum Min 0\n",
      "e1_sum Max 138.0\n",
      "e1_sum STD 42.9370451213\n",
      "Student 0 Student Data e1_sum: 35.0 e1_sum Letter: C+\n",
      "Student 1 Student Data e1_sum: 0 e1_sum Letter: C-\n",
      "Student 2 Student Data e1_sum: 20.0 e1_sum Letter: C\n",
      "Student 3 Student Data e1_sum: 115.0 e1_sum Letter: B+\n",
      "Student 4 Student Data e1_sum: 24.0 e1_sum Letter: C\n",
      "Student 5 Student Data e1_sum: 95.0 e1_sum Letter: B-\n",
      "Student 6 Student Data e1_sum: 37.0 e1_sum Letter: C+\n",
      "Student 7 Student Data e1_sum: 77.0 e1_sum Letter: C+\n",
      "Student 8 Student Data e1_sum: 103.0 e1_sum Letter: B\n",
      "Student 9 Student Data e1_sum: 117.0 e1_sum Letter: B+\n",
      "Student 10 Student Data e1_sum: 138.0 e1_sum Letter: A-\n",
      "Student 11 Student Data e1_sum: 110.0 e1_sum Letter: B\n",
      "Student 12 Student Data e1_sum: 104.0 e1_sum Letter: B\n",
      "Student 13 Student Data e1_sum: 111.0 e1_sum Letter: B\n",
      "Student 14 Student Data e1_sum: 103.0 e1_sum Letter: B\n",
      "Student 15 Student Data e1_sum: 134.0 e1_sum Letter: A-\n",
      "l2_sum Mean 51.09375\n",
      "l2_sum Min 0\n",
      "l2_sum Max 69.0\n",
      "l2_sum STD 21.0566340125\n",
      "Student 0 Student Data l2_sum: 58.0 l2_sum Letter: B\n",
      "Student 1 Student Data l2_sum: 0 l2_sum Letter: F\n",
      "Student 2 Student Data l2_sum: 0 l2_sum Letter: F\n",
      "Student 3 Student Data l2_sum: 62.0 l2_sum Letter: B\n",
      "Student 4 Student Data l2_sum: 49.5 l2_sum Letter: C+\n",
      "Student 5 Student Data l2_sum: 69.0 l2_sum Letter: B+\n",
      "Student 6 Student Data l2_sum: 54.5 l2_sum Letter: B-\n",
      "Student 7 Student Data l2_sum: 69.0 l2_sum Letter: B+\n",
      "Student 8 Student Data l2_sum: 39.5 l2_sum Letter: C\n",
      "Student 9 Student Data l2_sum: 60.0 l2_sum Letter: B\n",
      "Student 10 Student Data l2_sum: 47.0 l2_sum Letter: C+\n",
      "Student 11 Student Data l2_sum: 68.5 l2_sum Letter: B+\n",
      "Student 12 Student Data l2_sum: 64.0 l2_sum Letter: B\n",
      "Student 13 Student Data l2_sum: 49.5 l2_sum Letter: C+\n",
      "Student 14 Student Data l2_sum: 68.0 l2_sum Letter: B+\n",
      "Student 15 Student Data l2_sum: 59.0 l2_sum Letter: B\n",
      "l1_sum STD 0.0\n",
      "l1_sum Mean 10.0\n",
      "l1_sum Min 10.0\n",
      "l1_sum Max 10.0\n",
      "Student 0 Student Data l1_sum: 10.0 l1_sum Letter: F-\n",
      "Student 1 Student Data l1_sum: 10.0 l1_sum Letter: F-\n",
      "Student 2 Student Data l1_sum: 10.0 l1_sum Letter: F-\n",
      "Student 3 Student Data l1_sum: 10.0 l1_sum Letter: F-\n",
      "Student 4 Student Data l1_sum: 10.0 l1_sum Letter: F-\n",
      "Student 5 Student Data l1_sum: 10.0 l1_sum Letter: F-\n",
      "Student 6 Student Data l1_sum: 10.0 l1_sum Letter: F-\n",
      "Student 7 Student Data l1_sum: 10.0 l1_sum Letter: F-\n",
      "Student 8 Student Data l1_sum: 10.0 l1_sum Letter: F-\n",
      "Student 9 Student Data l1_sum: 10.0 l1_sum Letter: F-\n",
      "Student 10 Student Data l1_sum: 10.0 l1_sum Letter: F-\n",
      "Student 11 Student Data l1_sum: 10.0 l1_sum Letter: F-\n",
      "Student 12 Student Data l1_sum: 10.0 l1_sum Letter: F-\n",
      "Student 13 Student Data l1_sum: 10.0 l1_sum Letter: F-\n",
      "Student 14 Student Data l1_sum: 10.0 l1_sum Letter: F-\n",
      "Student 15 Student Data l1_sum: 10.0 l1_sum Letter: F-\n",
      "Second Solution\n",
      "l1_sum STD 0.0\n",
      "l1_sum Mean 10.0\n",
      "l1_sum Min 10.0\n",
      "l1_sum Max 10.0\n",
      "Student 0 Student Data l1_sum: 10.0 l1_sum Letter: F-\n",
      "Student 1 Student Data l1_sum: 10.0 l1_sum Letter: F-\n",
      "Student 2 Student Data l1_sum: 10.0 l1_sum Letter: F-\n",
      "Student 3 Student Data l1_sum: 10.0 l1_sum Letter: F-\n",
      "Student 4 Student Data l1_sum: 10.0 l1_sum Letter: F-\n",
      "Student 5 Student Data l1_sum: 10.0 l1_sum Letter: F-\n",
      "Student 6 Student Data l1_sum: 10.0 l1_sum Letter: F-\n",
      "Student 7 Student Data l1_sum: 10.0 l1_sum Letter: F-\n",
      "Student 8 Student Data l1_sum: 10.0 l1_sum Letter: F-\n",
      "Student 9 Student Data l1_sum: 10.0 l1_sum Letter: F-\n",
      "Student 10 Student Data l1_sum: 10.0 l1_sum Letter: F-\n",
      "Student 11 Student Data l1_sum: 10.0 l1_sum Letter: F-\n",
      "Student 12 Student Data l1_sum: 10.0 l1_sum Letter: F-\n",
      "Student 13 Student Data l1_sum: 10.0 l1_sum Letter: F-\n",
      "Student 14 Student Data l1_sum: 10.0 l1_sum Letter: F-\n",
      "Student 15 Student Data l1_sum: 10.0 l1_sum Letter: F-\n",
      "l2_sum Mean 51.09375\n",
      "l2_sum Min 0\n",
      "l2_sum Max 69.0\n",
      "l2_sum STD 21.0566340125\n",
      "Student 0 Student Data l2_sum: 58.0 l2_sum Letter: B\n",
      "Student 1 Student Data l2_sum: 0 l2_sum Letter: F\n",
      "Student 2 Student Data l2_sum: 0 l2_sum Letter: F\n",
      "Student 3 Student Data l2_sum: 62.0 l2_sum Letter: B\n",
      "Student 4 Student Data l2_sum: 49.5 l2_sum Letter: C+\n",
      "Student 5 Student Data l2_sum: 69.0 l2_sum Letter: B+\n",
      "Student 6 Student Data l2_sum: 54.5 l2_sum Letter: B-\n",
      "Student 7 Student Data l2_sum: 69.0 l2_sum Letter: B+\n",
      "Student 8 Student Data l2_sum: 39.5 l2_sum Letter: C\n",
      "Student 9 Student Data l2_sum: 60.0 l2_sum Letter: B\n",
      "Student 10 Student Data l2_sum: 47.0 l2_sum Letter: C+\n",
      "Student 11 Student Data l2_sum: 68.5 l2_sum Letter: B+\n",
      "Student 12 Student Data l2_sum: 64.0 l2_sum Letter: B\n",
      "Student 13 Student Data l2_sum: 49.5 l2_sum Letter: C+\n",
      "Student 14 Student Data l2_sum: 68.0 l2_sum Letter: B+\n",
      "Student 15 Student Data l2_sum: 59.0 l2_sum Letter: B\n",
      "l3_sum Mean 73.3125\n",
      "l3_sum STD 38.3017929574\n",
      "l3_sum Max 126.0\n",
      "l3_sum Min 0\n",
      "Student 0 Student Data l3_sum: 9.0 l3_sum Letter: C\n",
      "Student 1 Student Data l3_sum: 0 l3_sum Letter: C-\n",
      "Student 2 Student Data l3_sum: 71.0 l3_sum Letter: C+\n",
      "Student 3 Student Data l3_sum: 102.0 l3_sum Letter: B+\n",
      "Student 4 Student Data l3_sum: 77.5 l3_sum Letter: B-\n",
      "Student 5 Student Data l3_sum: 89.0 l3_sum Letter: B\n",
      "Student 6 Student Data l3_sum: 64.5 l3_sum Letter: C+\n",
      "Student 7 Student Data l3_sum: 40.0 l3_sum Letter: C-\n",
      "Student 8 Student Data l3_sum: 40.0 l3_sum Letter: C-\n",
      "Student 9 Student Data l3_sum: 26.0 l3_sum Letter: C+\n",
      "Student 10 Student Data l3_sum: 126.0 l3_sum Letter: A\n",
      "Student 11 Student Data l3_sum: 97.5 l3_sum Letter: B\n",
      "Student 12 Student Data l3_sum: 115.0 l3_sum Letter: A-\n",
      "Student 13 Student Data l3_sum: 114.5 l3_sum Letter: A-\n",
      "Student 14 Student Data l3_sum: 95.0 l3_sum Letter: B\n",
      "Student 15 Student Data l3_sum: 106.0 l3_sum Letter: B+\n",
      "l4_sum Mean 34.125\n",
      "l4_sum STD 30.4217746852\n",
      "l4_sum Max 105.0\n",
      "l4_sum Min 0\n",
      "Student 0 Student Data l4_sum: 0 l4_sum Letter: C+\n",
      "Student 1 Student Data l4_sum: 0 l4_sum Letter: C+\n",
      "Student 2 Student Data l4_sum: 0 l4_sum Letter: C+\n",
      "Student 3 Student Data l4_sum: 75.0 l4_sum Letter: A\n",
      "Student 4 Student Data l4_sum: 26.0 l4_sum Letter: C+\n",
      "Student 5 Student Data l4_sum: 35.0 l4_sum Letter: B-\n",
      "Student 6 Student Data l4_sum: 30.0 l4_sum Letter: C+\n",
      "Student 7 Student Data l4_sum: 51.0 l4_sum Letter: B\n",
      "Student 8 Student Data l4_sum: 68.0 l4_sum Letter: A-\n",
      "Student 9 Student Data l4_sum: 27.0 l4_sum Letter: C+\n",
      "Student 10 Student Data l4_sum: 105.0 l4_sum Letter: A+\n",
      "Student 11 Student Data l4_sum: 51.0 l4_sum Letter: B\n",
      "Student 12 Student Data l4_sum: 0 l4_sum Letter: C+\n",
      "Student 13 Student Data l4_sum: 25.0 l4_sum Letter: C+\n",
      "Student 14 Student Data l4_sum: 0 l4_sum Letter: C+\n",
      "Student 15 Student Data l4_sum: 53.0 l4_sum Letter: B\n",
      "e1_sum Max 138.0\n",
      "e1_sum Min 0\n",
      "e1_sum Mean 82.6875\n",
      "e1_sum STD 42.9370451213\n",
      "Student 0 Student Data e1_sum: 35.0 e1_sum Letter: C+\n",
      "Student 1 Student Data e1_sum: 0 e1_sum Letter: C-\n",
      "Student 2 Student Data e1_sum: 20.0 e1_sum Letter: C\n",
      "Student 3 Student Data e1_sum: 115.0 e1_sum Letter: B+\n",
      "Student 4 Student Data e1_sum: 24.0 e1_sum Letter: C\n",
      "Student 5 Student Data e1_sum: 95.0 e1_sum Letter: B-\n",
      "Student 6 Student Data e1_sum: 37.0 e1_sum Letter: C+\n",
      "Student 7 Student Data e1_sum: 77.0 e1_sum Letter: C+\n",
      "Student 8 Student Data e1_sum: 103.0 e1_sum Letter: B\n",
      "Student 9 Student Data e1_sum: 117.0 e1_sum Letter: B+\n",
      "Student 10 Student Data e1_sum: 138.0 e1_sum Letter: A-\n",
      "Student 11 Student Data e1_sum: 110.0 e1_sum Letter: B\n",
      "Student 12 Student Data e1_sum: 104.0 e1_sum Letter: B\n",
      "Student 13 Student Data e1_sum: 111.0 e1_sum Letter: B\n",
      "Student 14 Student Data e1_sum: 103.0 e1_sum Letter: B\n",
      "Student 15 Student Data e1_sum: 134.0 e1_sum Letter: A-\n",
      "q1_sum Min 0\n",
      "q1_sum STD 4.46940554632\n",
      "q1_sum Mean 6.40625\n",
      "q1_sum Max 10.0\n",
      "Student 0 Student Data q1_sum: 9.5 q1_sum Letter: B\n",
      "Student 1 Student Data q1_sum: 0 q1_sum Letter: C\n",
      "Student 2 Student Data q1_sum: 5.0 q1_sum Letter: C\n",
      "Student 3 Student Data q1_sum: 10.0 q1_sum Letter: B+\n",
      "Student 4 Student Data q1_sum: 0 q1_sum Letter: C\n",
      "Student 5 Student Data q1_sum: 9.5 q1_sum Letter: B\n",
      "Student 6 Student Data q1_sum: 10.0 q1_sum Letter: B+\n",
      "Student 7 Student Data q1_sum: 10.0 q1_sum Letter: B+\n",
      "Student 8 Student Data q1_sum: 9.5 q1_sum Letter: B\n",
      "Student 9 Student Data q1_sum: 9.5 q1_sum Letter: B\n",
      "Student 10 Student Data q1_sum: 0 q1_sum Letter: C\n",
      "Student 11 Student Data q1_sum: 10.0 q1_sum Letter: B+\n",
      "Student 12 Student Data q1_sum: 10.0 q1_sum Letter: B+\n",
      "Student 13 Student Data q1_sum: 0 q1_sum Letter: C\n",
      "Student 14 Student Data q1_sum: 0 q1_sum Letter: C\n",
      "Student 15 Student Data q1_sum: 9.5 q1_sum Letter: B\n"
     ]
    },
    {
     "data": {
      "text/plain": [
       "[None, None, None, None, None, None]"
      ]
     },
     "execution_count": 68,
     "metadata": {},
     "output_type": "execute_result"
    }
   ],
   "source": [
    "#Qestion 4(first solution)\n",
    "def apply_func(func,a_grade_book,filename):\n",
    "    class_data=csv_reader(filename)\n",
    "    first=0\n",
    "    data=list()\n",
    "    for k in class_data[0].keys():\n",
    "        if  k=='first name' or k==' last name':\n",
    "             continue\n",
    "        prefix=k.split('_')[0]+'_'\n",
    "        if prefix not in data:\n",
    "            data.append(prefix)\n",
    "             \n",
    "            func(my_grade_book,prefix)\n",
    "        \n",
    "        \n",
    "apply_func(curve,my_grade_book,\"Data1401-Grades-Strings.csv\")\n",
    "\n",
    "#*****************************************************\n",
    "#question 4 (second solution)\n",
    "print 'Second Solution'\n",
    "pref=('l1_','l2_','l3_','l4_','e1_','q1_')\n",
    "map(lambda x:curve(my_grade_book,x,cut_off=None),pref)"
   ]
  },
  {
   "cell_type": "markdown",
   "metadata": {},
   "source": [
    "*Question 4:* Write a function that takes a list of prefixes and apply curve to each. Use it to curve every grade."
   ]
  },
  {
   "cell_type": "markdown",
   "metadata": {},
   "source": [
    "*Question 5:* Modify `curve` so that it deterines the `cut_off` automatically, using 50\\% of max grade as the cut off."
   ]
  },
  {
   "cell_type": "code",
   "execution_count": 77,
   "metadata": {},
   "outputs": [
    {
     "name": "stdout",
     "output_type": "stream",
     "text": [
      "cut_off is 34.5\n",
      "l2_sum Mean 51.09375\n",
      "l2_sum Min 0\n",
      "l2_sum Max 69.0\n",
      "l2_sum STD 21.0566340125\n",
      "Student 0 Student Data l2_sum: 58.0 l2_sum Letter: B\n",
      "Student 1 Student Data l2_sum: 0 l2_sum Letter: F\n",
      "Student 2 Student Data l2_sum: 0 l2_sum Letter: F\n",
      "Student 3 Student Data l2_sum: 62.0 l2_sum Letter: B\n",
      "Student 4 Student Data l2_sum: 49.5 l2_sum Letter: C+\n",
      "Student 5 Student Data l2_sum: 69.0 l2_sum Letter: B+\n",
      "Student 6 Student Data l2_sum: 54.5 l2_sum Letter: B-\n",
      "Student 7 Student Data l2_sum: 69.0 l2_sum Letter: B+\n",
      "Student 8 Student Data l2_sum: 39.5 l2_sum Letter: C\n",
      "Student 9 Student Data l2_sum: 60.0 l2_sum Letter: B\n",
      "Student 10 Student Data l2_sum: 47.0 l2_sum Letter: C+\n",
      "Student 11 Student Data l2_sum: 68.5 l2_sum Letter: B+\n",
      "Student 12 Student Data l2_sum: 64.0 l2_sum Letter: B\n",
      "Student 13 Student Data l2_sum: 49.5 l2_sum Letter: C+\n",
      "Student 14 Student Data l2_sum: 68.0 l2_sum Letter: B+\n",
      "Student 15 Student Data l2_sum: 59.0 l2_sum Letter: B\n"
     ]
    }
   ],
   "source": [
    "# Modify this function\n",
    "def Curve(a_grade_book,prefix):\n",
    " \n",
    "    \n",
    "     \n",
    "    stat=a_grade_book.get_data(prefix)\n",
    "     \n",
    "    name=prefix+'sum Max'\n",
    "    Max=stat[name]\n",
    "    a_grade_book.apply_calculator(mean_std_calculator(prefix+\"sum\",cut_off=None)) \n",
    "    cut_off=Max*0.5\n",
    "    print 'cut_off is '+str(cut_off)\n",
    "     \n",
    "    a_grade_book.apply_calculator(grade_summer(prefix),overwrite=True)\n",
    "    \n",
    "    a_grade_book.apply_calculator(curved_letter_grade(prefix+\"sum\",a_grade_book[prefix+\"sum Mean\"],a_grade_book[prefix+\"sum STD\"]),overwrite=True)\n",
    "    stats=a_grade_book.get_data(prefix)\n",
    "    for k,v in stats.iteritems():\n",
    "        print k,v\n",
    "    a_grade_book.print_grades([prefix+\"sum\",prefix+\"sum Letter\"])  \n",
    "Curve(my_grade_book,'l2_')"
   ]
  },
  {
   "cell_type": "markdown",
   "metadata": {},
   "source": [
    "*Question 5:* Write an algorithm that computes the number of A, B, C, D, and F grades for a prefix.  "
   ]
  },
  {
   "cell_type": "code",
   "execution_count": 70,
   "metadata": {},
   "outputs": [],
   "source": [
    "def count_letter(a_grade_book,prefix):\n",
    "    name=prefix+'sum Letter'\n",
    "    A,B,C,D,F=0,0,0,0,0\n",
    "    for i in a_grade_book.get_students():\n",
    "        a=my_grade_book.get_students()[i].__getitem__(name)\n",
    "        hold=str(a).split(' ')\n",
    "        hold1=hold[2]\n",
    "        letter=hold1[0]\n",
    "         \n",
    "        if letter=='A':\n",
    "            A+=1\n",
    "        if letter=='B':\n",
    "            B+=1\n",
    "        if letter=='C':\n",
    "            C+=1\n",
    "        if letter=='D':\n",
    "            D+=1\n",
    "        if letter=='F':\n",
    "            F+=1\n",
    "    print 'In '+prefix+'sum grade'  \n",
    "    print str(A)+' students got A'\n",
    "    print str(B)+' students got B'\n",
    "    print str(C)+' students got C'\n",
    "    print str(D)+' students got D'\n",
    "    print str(F)+' students got F'"
   ]
  },
  {
   "cell_type": "code",
   "execution_count": 71,
   "metadata": {},
   "outputs": [
    {
     "name": "stdout",
     "output_type": "stream",
     "text": [
      "In l3_sum grade\n",
      "2 students got A\n",
      "4 students got B\n",
      "5 students got C\n",
      "0 students got D\n",
      "5 students got F\n"
     ]
    }
   ],
   "source": [
    "count_letter(my_grade_book,'l3_')  "
   ]
  },
  {
   "cell_type": "code",
   "execution_count": 72,
   "metadata": {},
   "outputs": [
    {
     "name": "stdout",
     "output_type": "stream",
     "text": [
      "In q1_sum grade\n",
      "0 students got A\n",
      "10 students got B\n",
      "6 students got C\n",
      "0 students got D\n",
      "0 students got F\n",
      "In l3_sum grade\n",
      "2 students got A\n",
      "4 students got B\n",
      "5 students got C\n",
      "0 students got D\n",
      "5 students got F\n",
      "In l4_sum grade\n",
      "3 students got A\n",
      "4 students got B\n",
      "9 students got C\n",
      "0 students got D\n",
      "0 students got F\n",
      "In e1_sum grade\n",
      "2 students got A\n",
      "8 students got B\n",
      "6 students got C\n",
      "0 students got D\n",
      "0 students got F\n",
      "In l2_sum grade\n",
      "0 students got A\n",
      "10 students got B\n",
      "4 students got C\n",
      "0 students got D\n",
      "2 students got F\n",
      "In l1_sum grade\n",
      "0 students got A\n",
      "0 students got B\n",
      "0 students got C\n",
      "0 students got D\n",
      "16 students got F\n"
     ]
    }
   ],
   "source": [
    "#apply count letter function to all sum grades\n",
    "apply_func(count_letter,my_grade_book,\"Data1401-Grades-Strings.csv\")"
   ]
  },
  {
   "cell_type": "code",
   "execution_count": 73,
   "metadata": {},
   "outputs": [
    {
     "name": "stdout",
     "output_type": "stream",
     "text": [
      "q1_\n",
      "l3_\n",
      "l4_\n",
      "e1_\n",
      "l2_\n",
      "l1_\n"
     ]
    }
   ],
   "source": [
    "#for testing random code \n",
    "class_data=csv_reader(\"Data1401-Grades-Strings.csv\")\n",
    "first=0\n",
    "data=list()\n",
    "for k in class_data[0].keys():\n",
    "    if  k=='first name' or k==' last name':\n",
    "         continue\n",
    "     \n",
    "    prefix=k.split('_')[0]+'_'\n",
    "    if prefix not in data:\n",
    "        data.append(prefix)\n",
    "        print prefix\n",
    " "
   ]
  },
  {
   "cell_type": "code",
   "execution_count": null,
   "metadata": {},
   "outputs": [],
   "source": [
    " "
   ]
  },
  {
   "cell_type": "code",
   "execution_count": null,
   "metadata": {},
   "outputs": [],
   "source": [
    "  "
   ]
  },
  {
   "cell_type": "code",
   "execution_count": null,
   "metadata": {},
   "outputs": [],
   "source": []
  }
 ],
 "metadata": {
  "kernelspec": {
   "display_name": "Python 2",
   "language": "python",
   "name": "python2"
  },
  "language_info": {
   "codemirror_mode": {
    "name": "ipython",
    "version": 2
   },
   "file_extension": ".py",
   "mimetype": "text/x-python",
   "name": "python",
   "nbconvert_exporter": "python",
   "pygments_lexer": "ipython2",
   "version": "2.7.15"
  }
 },
 "nbformat": 4,
 "nbformat_minor": 2
}
