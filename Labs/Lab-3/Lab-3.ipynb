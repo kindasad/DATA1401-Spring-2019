{
 "cells": [
  {
   "cell_type": "markdown",
   "metadata": {},
   "source": [
    "# Lab 3\n",
    "\n",
    "## Submitting lab solutions\n",
    "\n",
    "At the end of the previous lab, you should have set up a \"Solutions\" directory in your home directory on TACC, with a fork of the class git repository that pull from Dr. Farbin's verison and pushes to your own fork. \n",
    "\n",
    "Open a terminal, navigate to your fork, and use `git remove -v` to verify that things are correctly setup.\n",
    "\n",
    "Your solutions to the lab 2 are either sitting in this fork, or in the first clone of the class repository that you made at the beginning of lab 2. \n",
    "\n",
    "Note that Jupyter tends to auto-save your work. But to make sure, it is a good habit to use the \"Save and Checkpoint\" command from the \"File\" menu whenever you are ending a session.\n",
    "\n",
    "Locate the your lab 2 notebook and copy and rename it into the same directory in your fork. \n",
    "\n",
    "For example:"
   ]
  },
  {
   "cell_type": "code",
   "execution_count": 1,
   "metadata": {},
   "outputs": [
    {
     "name": "stdout",
     "output_type": "stream",
     "text": [
      "cp: /Users/afarbin/DATA1401-Spring-2019/Labs/Lab-2/Lab-2.ipynb: No such file or directory\r\n"
     ]
    }
   ],
   "source": [
    "!cp ~/DATA1401-Spring-2019/Labs/Lab-2/Lab-2.ipynb ~/Solutions/DATA1401-Spring-2019/Labs/Lab-2/Lab-2-Solution.ipynb"
   ]
  },
  {
   "cell_type": "markdown",
   "metadata": {},
   "source": [
    "The reason we are renaming the file is due to a complication that you may experience when pulling updates into your fork. If a file was updated after your last pull and modifications, your modifications will likely cause a merge conflict, which can be a headache to resolve. Creating a new file side-steps this problem.\n",
    "\n",
    "Now that you have a new file in your fork, add the file into local repository:"
   ]
  },
  {
   "cell_type": "code",
   "execution_count": null,
   "metadata": {
    "collapsed": true
   },
   "outputs": [],
   "source": [
    "!git add ~/Solutions/DATA1401-Spring-2019/Labs/Lab-2/Lab-2-Solution.ipynb"
   ]
  },
  {
   "cell_type": "markdown",
   "metadata": {},
   "source": [
    "You only need to add a file once. Next, commit this file to your local copy of the repository:"
   ]
  },
  {
   "cell_type": "code",
   "execution_count": null,
   "metadata": {
    "collapsed": true
   },
   "outputs": [],
   "source": [
    "!git commit -a -m \"My Lab 2 Solutions\""
   ]
  },
  {
   "cell_type": "markdown",
   "metadata": {},
   "source": [
    "You are required to provide a text message when commiting files, and the `-m` option is the nicest way to do it. If you do not supply a message, you will find yourself in a text editor (most likely vi) which is difficult to use and forced to enter a message.\n",
    "\n",
    "You will need to commit your changes every time you wish to submit any changes. So if you keep working or come back to a lab, make sure you commit your changes.\n",
    "\n",
    "Now that you committed your changes, you will need to push these changes to the fork of the package in your github account:"
   ]
  },
  {
   "cell_type": "code",
   "execution_count": null,
   "metadata": {
    "collapsed": true
   },
   "outputs": [],
   "source": [
    "!git push"
   ]
  },
  {
   "cell_type": "markdown",
   "metadata": {},
   "source": [
    "You will likely need to supply you git username and password.\n",
    "\n",
    "Your lab is now available for grading. Remember that unless you commit and push your work, it will not be seen.\n",
    "\n",
    "From now on, use this procedure to submit your solutions to labs, including the remainder of this lab. \n",
    "\n",
    "You can work in your Solutions directory if you like. But note that it may be a good practice to use the \"File\" menu to duplicate and remain labs when you first start. Besides letting you avoid having to do the copy later, you will have a copy of the original notebook, in case you delete something and can pull updates, in case of bug fixes."
   ]
  },
  {
   "cell_type": "markdown",
   "metadata": {},
   "source": [
    "## Python Programming\n",
    "\n",
    "In the remainder of this lab you will practice python by solving some simple exercises. \n",
    "\n",
    "*Exercise 1:* Write 2 functions `even(x)` and `odd(x)` that take an integer and returns True if the input is even or odd, otherwise returns False. Use cell below for your solution. Use the subsequent cell to demonstrate that your solution works. Feel free to add additional cell as needed using the \"+\" button on the button bar above. "
   ]
  },
  {
   "cell_type": "code",
   "execution_count": 7,
   "metadata": {},
   "outputs": [
    {
     "name": "stdout",
     "output_type": "stream",
     "text": [
      "0\n",
      "True\n"
     ]
    }
   ],
   "source": [
    "def even(x):\n",
    "    a=x%2\n",
    "    \n",
    "    if a==0:\n",
    "        return True\n",
    "    return False\n",
    "    \n",
    "print(even(2))"
   ]
  },
  {
   "cell_type": "code",
   "execution_count": 9,
   "metadata": {},
   "outputs": [
    {
     "name": "stdout",
     "output_type": "stream",
     "text": [
      "False\n"
     ]
    }
   ],
   "source": [
    "def odd(x):\n",
    "    a=x%2\n",
    "    if a!=0:\n",
    "        return True\n",
    "    return False\n",
    "print(odd(2))"
   ]
  },
  {
   "cell_type": "markdown",
   "metadata": {},
   "source": [
    "*Exercise 2:* Write a function that takes a list of numbers as input and returns a list of the subset of elements that are less that 10. Test your solution."
   ]
  },
  {
   "cell_type": "code",
   "execution_count": 10,
   "metadata": {
    "collapsed": true
   },
   "outputs": [],
   "source": [
    "def less_ten(x):\n",
    "    out = []\n",
    "    for i in range(0,len(x)):\n",
    "         \n",
    "        if x[i]<10:\n",
    "            out.append(x[i])\n",
    "    return out "
   ]
  },
  {
   "cell_type": "code",
   "execution_count": 11,
   "metadata": {},
   "outputs": [
    {
     "name": "stdout",
     "output_type": "stream",
     "text": [
      "[0, 1, 2, 3]\n"
     ]
    }
   ],
   "source": [
    "X=(0,12,12,12,1,2,3)\n",
    "a=less_ten(X)\n",
    "print(a)"
   ]
  },
  {
   "cell_type": "markdown",
   "metadata": {},
   "source": [
    "*Exercise 3:* Write a function that takes a number `x_max` as input and returns a function that performs the same task as exercise 2, but for `x_max` instead of 10."
   ]
  },
  {
   "cell_type": "code",
   "execution_count": 12,
   "metadata": {
    "collapsed": true
   },
   "outputs": [],
   "source": [
    "def x_max(x,x_max):\n",
    "    out = []\n",
    "    for i in range(0,len(x)):\n",
    "         \n",
    "        if x[i]<x_max:\n",
    "            out.append(x[i])\n",
    "    return out "
   ]
  },
  {
   "cell_type": "code",
   "execution_count": 13,
   "metadata": {},
   "outputs": [
    {
     "name": "stdout",
     "output_type": "stream",
     "text": [
      "[0, 1, 2, 3]\n"
     ]
    }
   ],
   "source": [
    "X1=(0,12,12,12,1,2,3)\n",
    "a=x_max(X,10)\n",
    "print(a)"
   ]
  },
  {
   "cell_type": "markdown",
   "metadata": {},
   "source": [
    "*Exercise 4:* Write a function that takes an interger as input and returns a list of all divisors of that number."
   ]
  },
  {
   "cell_type": "code",
   "execution_count": 38,
   "metadata": {
    "collapsed": true
   },
   "outputs": [],
   "source": [
    "def divisor(x):\n",
    "    out=[]\n",
    "    for i in range(1,x):\n",
    "            if x%i==0:\n",
    "                out.append(i)\n",
    "    return out "
   ]
  },
  {
   "cell_type": "code",
   "execution_count": 39,
   "metadata": {},
   "outputs": [
    {
     "name": "stdout",
     "output_type": "stream",
     "text": [
      "[1, 2, 5]\n"
     ]
    }
   ],
   "source": [
    " print(divisor(10))"
   ]
  },
  {
   "cell_type": "markdown",
   "metadata": {},
   "source": [
    "*Exercise 5:* Write a function that takes 2 lists as input and returns a list that contains only the elements that are common between the lists (without duplicates). Make sure your program works on two lists of different sizes."
   ]
  },
  {
   "cell_type": "code",
   "execution_count": 40,
   "metadata": {
    "collapsed": true
   },
   "outputs": [],
   "source": [
    " def same(x,y):\n",
    "    out=[]\n",
    "    for i in range(0,len(x)):\n",
    "        for j in range(0,len(y)):\n",
    "            if y[j]==x[i]:\n",
    "                out.append(y[j])\n",
    "    return out"
   ]
  },
  {
   "cell_type": "code",
   "execution_count": 41,
   "metadata": {},
   "outputs": [
    {
     "name": "stdout",
     "output_type": "stream",
     "text": [
      "[3, 1, 6]\n"
     ]
    }
   ],
   "source": [
    "x=(0,12,2,3,1,2,4,6)\n",
    "y=(1,3,5,6)\n",
    "print(same(x,y))"
   ]
  },
  {
   "cell_type": "markdown",
   "metadata": {},
   "source": [
    "*Exercise 6:* Write a function that reads takes a string and returns `True` if the string is a palindrome. (A palindrome is a string that reads the same forwards and backwards.)"
   ]
  },
  {
   "cell_type": "code",
   "execution_count": 14,
   "metadata": {
    "collapsed": true
   },
   "outputs": [],
   "source": [
    "def pali(x):\n",
    "    j=len(x)-1\n",
    "    out=''\n",
    "    for i in range(0,len(x)):\n",
    "        out+=x[j]\n",
    "        j=j-1\n",
    "    if out==x:\n",
    "        return True\n",
    "    return False"
   ]
  },
  {
   "cell_type": "code",
   "execution_count": 16,
   "metadata": {},
   "outputs": [
    {
     "name": "stdout",
     "output_type": "stream",
     "text": [
      "True\n"
     ]
    }
   ],
   "source": [
    "print(pali('eye'))"
   ]
  },
  {
   "cell_type": "markdown",
   "metadata": {},
   "source": [
    "*Exercise 7:* Write a Rock-Paper-Scissors game function, that takes 2 strings, the inputs of player 1 and player 2, and output 1 or 2 corresponding to which player wins, or 0 if draw.\n",
    "\n",
    "Implement a Rock-Paper-Scissors game by soliciting input from 2 players, testing with this function, and repeating if there is a draw.\n",
    "\n",
    "Remember the rules:\n",
    "\n",
    "* Rock beats scissors\n",
    "* Scissors beats paper\n",
    "* Paper beats rock"
   ]
  },
  {
   "cell_type": "code",
   "execution_count": 21,
   "metadata": {
    "collapsed": true
   },
   "outputs": [],
   "source": [
    "def game(p1,p2):\n",
    "    if p1==p2:\n",
    "        return 0\n",
    "    if (p1=='Rock' and p2=='Paper') or (p1=='Paper' and p2=='Scissors') or (p1=='Scissors' and p2=='Rock'):\n",
    "        return 1\n",
    "    else :\n",
    "        return 2"
   ]
  },
  {
   "cell_type": "code",
   "execution_count": 22,
   "metadata": {},
   "outputs": [
    {
     "name": "stdout",
     "output_type": "stream",
     "text": [
      "Rock\n",
      "Paper\n",
      "1\n"
     ]
    }
   ],
   "source": [
    "p1=''\n",
    "p2=''\n",
    "while p1==p2:\n",
    "    p1=raw_input()\n",
    "    p2=raw_input()\n",
    "    print(game(p1,p2))"
   ]
  },
  {
   "cell_type": "markdown",
   "metadata": {},
   "source": [
    "*Exercise 8:* Write a function that takes a integer `n` as input and \n",
    "outputs a list of the first `n` Fibonnaci numbers.\n",
    "\n",
    "The Fibonnaci seqence is a sequence of numbers where the next number in the sequence is the sum of the previous two numbers in the sequence. The sequence looks like this: 1, 1, 2, 3, 5, 8, 13, …)"
   ]
  },
  {
   "cell_type": "code",
   "execution_count": 23,
   "metadata": {
    "collapsed": true
   },
   "outputs": [],
   "source": [
    "def fil(n):\n",
    "    out=[]\n",
    "    out.append(1)\n",
    "    if n==1:\n",
    "        return out\n",
    "    out.append(1)\n",
    "    if n==2:\n",
    "        return out\n",
    "     \n",
    "    for i in range (2,n):\n",
    "        a=out[i-1]+out[i-2]\n",
    "        out.append(a)\n",
    "    return out "
   ]
  },
  {
   "cell_type": "code",
   "execution_count": 24,
   "metadata": {},
   "outputs": [
    {
     "name": "stdout",
     "output_type": "stream",
     "text": [
      "[1, 1, 2]\n"
     ]
    }
   ],
   "source": [
    "print(fil(3))"
   ]
  },
  {
   "cell_type": "markdown",
   "metadata": {},
   "source": [
    "*Exercise 9:* Write a function that takes a string of consisting of several words and returns a string that reverses the order of the words.\n"
   ]
  },
  {
   "cell_type": "code",
   "execution_count": 25,
   "metadata": {
    "collapsed": true
   },
   "outputs": [],
   "source": [
    "def reverse(x):\n",
    "    out=''\n",
    "    j=len(x)-1\n",
    "    for i in range(0,len(x)):\n",
    "        out=out+x[j]\n",
    "        j=j-1\n",
    "    return out"
   ]
  },
  {
   "cell_type": "code",
   "execution_count": 26,
   "metadata": {},
   "outputs": [
    {
     "name": "stdout",
     "output_type": "stream",
     "text": [
      "654321\n"
     ]
    }
   ],
   "source": [
    "print(reverse('123456'))"
   ]
  },
  {
   "cell_type": "markdown",
   "metadata": {},
   "source": [
    "*Exercise 11:* Write a guessing game program that will repeatedly guess a number that the users picks, with the user indicating higher or lower, until it correctly guesses the number."
   ]
  },
  {
   "cell_type": "code",
   "execution_count": 18,
   "metadata": {
    "collapsed": true
   },
   "outputs": [],
   "source": [
    "def game(p1):\n",
    "     \n",
    "    p2=int(raw_input())\n",
    "    while p1!=p2:\n",
    "        if p1>p2:\n",
    "            print('too small')\n",
    "        if p2>p1:\n",
    "            print('too big')\n",
    "        return game(p1)\n",
    "    return True "
   ]
  },
  {
   "cell_type": "code",
   "execution_count": 19,
   "metadata": {},
   "outputs": [
    {
     "name": "stdout",
     "output_type": "stream",
     "text": [
      "1\n",
      "2\n",
      "too big\n",
      "3\n",
      "too big\n",
      "1\n",
      "True\n"
     ]
    }
   ],
   "source": [
    "\n",
    "p1=int(raw_input())\n",
    "print(game(p1))"
   ]
  },
  {
   "cell_type": "markdown",
   "metadata": {},
   "source": [
    "## *Exercise 10:* Write a function that takes 2 integers `n` and `m` as input and draws a `n` by `m` game board. For example the following is a 3x3 board:\n",
    "```\n",
    "   --- --- --- \n",
    "  |   |   |   | \n",
    "   --- --- ---  \n",
    "  |   |   |   | \n",
    "   --- --- ---  \n",
    "  |   |   |   | \n",
    "   --- --- --- \n",
    "   ```"
   ]
  },
  {
   "cell_type": "code",
   "execution_count": 110,
   "metadata": {
    "collapsed": true
   },
   "outputs": [],
   "source": [
    "def box(m,n):\n",
    "    a=' ---'*n\n",
    "    b='|   '*(n+1)\n",
    "    for i in range(0,m):\n",
    "        print(a)\n",
    "        print(b)\n",
    "    print(a)    "
   ]
  },
  {
   "cell_type": "code",
   "execution_count": 111,
   "metadata": {},
   "outputs": [
    {
     "name": "stdout",
     "output_type": "stream",
     "text": [
      " --- --- ---\n",
      "|   |   |   |   \n",
      " --- --- ---\n",
      "|   |   |   |   \n",
      " --- --- ---\n",
      "|   |   |   |   \n",
      " --- --- ---\n"
     ]
    }
   ],
   "source": [
    "box(3,3)"
   ]
  },
  {
   "cell_type": "markdown",
   "metadata": {},
   "source": [
    "*Exercise 11:* Write a function that takes a `n` by `n` matrix representing a tic-tac-toe game, and return -1, 0, 1, or 2 indicating the game is incomplete, the game is a draw, player 1 has won, or player 2 has one, respectively. Here are some example inputs:"
   ]
  },
  {
   "cell_type": "code",
   "execution_count": 4,
   "metadata": {
    "collapsed": true
   },
   "outputs": [],
   "source": [
    "winner_is_2 = [[2, 2, 0],\n",
    "\t[2, 1, 0],\n",
    "\t[2, 1, 1]]\n",
    "\n",
    "winner_is_1 = [[1, 2, 0],\n",
    "\t[2, 1, 0],\n",
    "\t[2, 1, 1]]\n",
    "\n",
    "winner_is_also_1 = [[0, 1, 0],\n",
    "\t[2, 1, 0],\n",
    "\t[2, 1, 1]]\n",
    "\n",
    "no_winner = [[1, 2, 0],\n",
    "\t[2, 1, 0],\n",
    "\t[2, 1, 2]]\n",
    "\n",
    "also_no_winner = [[1, 2, 0],\n",
    "\t[2, 1, 0],\n",
    "\t[2, 1, 0]]"
   ]
  },
  {
   "cell_type": "code",
   "execution_count": 42,
   "metadata": {
    "collapsed": true
   },
   "outputs": [],
   "source": [
    "def check(x):\n",
    "    a=[[0]*len(x)]*len(x)\n",
    "    \n",
    "    for i in range (0,len(x)):\n",
    "        for j in range (0,len(x)):\n",
    "            if x[i][j]==2:\n",
    "                a[i][j]=0.01\n",
    "                \n",
    "            if x[i][j]==0:\n",
    "                 a[i][j]=5\n",
    "            if x[i][j]==1:\n",
    "                a[i][j]=1\n",
    "    return a \n",
    "       "
   ]
  },
  {
   "cell_type": "code",
   "execution_count": 44,
   "metadata": {},
   "outputs": [
    {
     "name": "stdout",
     "output_type": "stream",
     "text": [
      "2\n",
      "[[2, 2, 0], [2, 1, 0], [2, 1, 1]]\n"
     ]
    }
   ],
   "source": [
    "def tic(a,check):\n",
    "    sum1=0\n",
    "    sum2=0\n",
    "    x=check(a)\n",
    "    for i in range (0,len(x)):\n",
    "            sum3=0\n",
    "             \n",
    "            sum4=0\n",
    "            sum3=sum(x[i][:])\n",
    "             \n",
    "            if  sum3==0.03:\n",
    "                return 2\n",
    "            if sum3==3:\n",
    "                \n",
    "                return 1\n",
    "            for j in range (0,len(x)):\n",
    "                sum4=sum4+x[j][i]\n",
    "                 \n",
    "                if i==j:\n",
    "                    sum1=sum1+x[i][j]\n",
    "                     \n",
    "                if (i+j)==(len(x)+1):\n",
    "                    sum2=sum2+x[i][j]\n",
    "             \n",
    "            if sum1==0.03 or sum2==0.03 or sum4==0.03:\n",
    "                    return 2\n",
    "             \n",
    "            if sum2==3 or sum1==3 or sum4==3:\n",
    "                  return 1\n",
    "             \n",
    "    return 0\n",
    "\n",
    "a=[[2, 2, 0],\n",
    "\t[2, 1, 0],\n",
    "\t[2, 1, 1]]\n",
    "\n",
    "\n",
    "print(tic(a,check))\n",
    " "
   ]
  },
  {
   "cell_type": "markdown",
   "metadata": {},
   "source": [
    "*Exercise 12:* Modify exercise 10, so that it takes a matrix of the form from exercise 11 and draws a tic-tac-tie board with \"X\"s and \"O\"s.  "
   ]
  },
  {
   "cell_type": "code",
   "execution_count": 5,
   "metadata": {
    "collapsed": true
   },
   "outputs": [],
   "source": [
    "def box(x):\n",
    "    a=' ---'*len(x)\n",
    "    b='|'\n",
    "    for i in range(0,len(x)):\n",
    "        c=''\n",
    "        print(a)\n",
    "        for j in range(0,len(x)):\n",
    "            if x[i][j]==1:\n",
    "                 c=c+b+' X '\n",
    "            if x[i][j]==2:\n",
    "                 c=c+b+' O '\n",
    "            if x[i][j]==0:\n",
    "                c=c+b+'   '\n",
    "        c=c+'|'\n",
    "        print(c)\n",
    "        \n",
    "    print(a) "
   ]
  },
  {
   "cell_type": "code",
   "execution_count": 6,
   "metadata": {},
   "outputs": [
    {
     "name": "stdout",
     "output_type": "stream",
     "text": [
      " --- --- ---\n",
      "| O | O |   |\n",
      " --- --- ---\n",
      "| O | X |   |\n",
      " --- --- ---\n",
      "| O | X | X |\n",
      " --- --- ---\n",
      "None\n"
     ]
    }
   ],
   "source": [
    " a=([2, 2, 0],\n",
    "\t[2, 1, 0],\n",
    "\t[2, 1, 1])\n",
    "\n",
    "\n",
    "print(box(a))\n",
    "    "
   ]
  },
  {
   "cell_type": "markdown",
   "metadata": {},
   "source": [
    "*Exercise 12:* Use the two previous exercises to implement a full tic-tac-toe game, where 2 players are repeatedly asked for x and y coordinates of where they wish to place a mark, an appropriate board is drawn, and the game status is checked until a player wins or a draw occurs."
   ]
  },
  {
   "cell_type": "code",
   "execution_count": 2,
   "metadata": {
    "collapsed": true
   },
   "outputs": [],
   "source": [
    " \n",
    " \n",
    " \n",
    "                "
   ]
  },
  {
   "cell_type": "code",
   "execution_count": 15,
   "metadata": {
    "collapsed": true
   },
   "outputs": [],
   "source": [
    " def tic(x,check):\n",
    "    sum1=0\n",
    "    sum2=0\n",
    "    x\n",
    "    for i in range (0,len(x)):\n",
    "            sum3=0\n",
    "             \n",
    "            sum4=0\n",
    "            sum3=sum(x[i][:])\n",
    "             \n",
    "            if  sum3==0.03:\n",
    "                return 2\n",
    "            if sum3==3:\n",
    "                return 1\n",
    "            for j in range (0,len(x)):\n",
    "                sum4=sum4+x[j][i]\n",
    "                 \n",
    "                if i==j:\n",
    "                    sum1=sum1+x[i][j]\n",
    "                     \n",
    "                if (i+j)==(len(x)+1):\n",
    "                    sum2=sum2+x[i][j]\n",
    "             \n",
    "            \n",
    "            if sum1==0.03 or sum2==0.03 or sum4==0.03:\n",
    "                    return 2\n",
    "             \n",
    "            if sum2==3 or sum1==3 or sum4==3:\n",
    "                      return 1\n",
    "             \n",
    "    return 0\n",
    "\n",
    " \n",
    "    "
   ]
  },
  {
   "cell_type": "code",
   "execution_count": 16,
   "metadata": {
    "collapsed": true
   },
   "outputs": [],
   "source": [
    "def setx(f,x,y,p):\n",
    "    if f[x][y]==1 or f[x][y]==2:\n",
    "        return False\n",
    "    if p==1:\n",
    "        f[x][y]=1\n",
    "    if p==2:\n",
    "        f[x][y]=0.01\n",
    "        return f\n",
    "\n",
    "def box(x):\n",
    "    a=' ---'*len(x)\n",
    "    b='|'\n",
    "    for i in range(0,len(x)):\n",
    "        c=''\n",
    "        print(a)\n",
    "        for j in range(0,len(x)):\n",
    "            if x[i][j]==1:\n",
    "                 c=c+b+' X '\n",
    "            if x[i][j]==0.01:\n",
    "                 c=c+b+' O '\n",
    "            if x[i][j]==5:\n",
    "                c=c+b+'   '\n",
    "        c=c+'|'\n",
    "        print(c)\n",
    "        \n",
    "    print(a) "
   ]
  },
  {
   "cell_type": "code",
   "execution_count": 17,
   "metadata": {},
   "outputs": [
    {
     "name": "stdout",
     "output_type": "stream",
     "text": [
      "1\n",
      "1\n",
      " --- --- ---\n",
      "|   |   |   |\n",
      " --- --- ---\n",
      "|   | X |   |\n",
      " --- --- ---\n",
      "|   |   |   |\n",
      " --- --- ---\n",
      "2\n",
      "1\n",
      " --- --- ---\n",
      "|   |   |   |\n",
      " --- --- ---\n",
      "|   | X |   |\n",
      " --- --- ---\n",
      "|   | O |   |\n",
      " --- --- ---\n",
      "0\n",
      "0\n",
      " --- --- ---\n",
      "| X |   |   |\n",
      " --- --- ---\n",
      "|   | X |   |\n",
      " --- --- ---\n",
      "|   | O |   |\n",
      " --- --- ---\n",
      "1\n",
      "2\n",
      " --- --- ---\n",
      "| X |   |   |\n",
      " --- --- ---\n",
      "|   | X | O |\n",
      " --- --- ---\n",
      "|   | O |   |\n",
      " --- --- ---\n",
      "2\n",
      "2\n",
      " --- --- ---\n",
      "| X |   |   |\n",
      " --- --- ---\n",
      "|   | X | O |\n",
      " --- --- ---\n",
      "|   | O | X |\n",
      " --- --- ---\n",
      "player 1 won\n"
     ]
    }
   ],
   "source": [
    "x=[[5,5,5],\n",
    "\t[5,5,5],\n",
    "\t[5,5,5]]\n",
    "triger=0\n",
    "while triger==0:\n",
    "    d1=False\n",
    "    d2=False\n",
    "    while d1==False:\n",
    "        p1_x=int(raw_input())\n",
    "        p1_y=int(raw_input())\n",
    "        d1=setx(x,p1_x,p1_y,1)\n",
    "    \n",
    "    box(x)\n",
    "    triger=tic(x,check)\n",
    "    if triger!=0:\n",
    "        break\n",
    "    while d2==False:\n",
    "        p2_x=int(raw_input())\n",
    "        p2_y=int(raw_input())\n",
    "        d2=setx(x,p2_x,p2_y,2)\n",
    "    box(x)\n",
    "    triger=tic(x,check)\n",
    "  \n",
    "    \n",
    "print 'player',triger, 'won'"
   ]
  },
  {
   "cell_type": "markdown",
   "metadata": {},
   "source": []
  },
  {
   "cell_type": "code",
   "execution_count": 37,
   "metadata": {},
   "outputs": [
    {
     "name": "stdout",
     "output_type": "stream",
     "text": [
      "[[0, 0, 0], [0, 0, 0], [0, 0, 0]]\n"
     ]
    }
   ],
   "source": [
    " "
   ]
  },
  {
   "cell_type": "code",
   "execution_count": null,
   "metadata": {
    "collapsed": true
   },
   "outputs": [],
   "source": []
  }
 ],
 "metadata": {
  "kernelspec": {
   "display_name": "Python 2",
   "language": "python",
   "name": "python2"
  },
  "language_info": {
   "codemirror_mode": {
    "name": "ipython",
    "version": 2
   },
   "file_extension": ".py",
   "mimetype": "text/x-python",
   "name": "python",
   "nbconvert_exporter": "python",
   "pygments_lexer": "ipython2",
   "version": "2.7.13"
  }
 },
 "nbformat": 4,
 "nbformat_minor": 2
}
