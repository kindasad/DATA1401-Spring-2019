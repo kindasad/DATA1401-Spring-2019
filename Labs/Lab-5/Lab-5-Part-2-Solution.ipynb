{
 "cells": [
  {
   "cell_type": "markdown",
   "metadata": {},
   "source": [
    "# Lab 5 - Part 2\n",
    "\n",
    "In the first part of this lab, you were tasked with implementing a Matrix class based on the matrix operations you implemented in Exam 1.\n",
    "\n",
    "In this part of the lab you will test your Matrix implementation by comparing to the `numpy` which is the most commonly used python library for matrices and tensors (high dimensional matrices).\n",
    "\n",
    "## Matrix Library\n",
    "\n",
    "*Exercise 1:* You implemented the first part of this lab in a python notebook. Use the new button from the Jupyter file browser page to create and edit a new text file named \"matrix.py\" in the \"Lab-5\" directory where this current notebook is running. Copy and paste your matrix implementation into this file. You may use a different text editor if you like. Make sure you add, commit, and push your `matrix.py` file when you submit your solutions to this lab.\n",
    "\n",
    "*Exercise 2:* Use python `import` to import your library into this notebook. Note that if there is a problem with your \"matrix.py\" file, you will get an error during the import. You can correct this error by editting the file and running the import cell again. But if the import succeeds, using import will not re-read the file. So if you edit the file after a successful import, you will need to either restart this notebook or use the python `reload` built-in to reload your matrix module.\n"
   ]
  },
  {
   "cell_type": "code",
   "execution_count": 1,
   "metadata": {},
   "outputs": [],
   "source": [
    "import Matrix"
   ]
  },
  {
   "cell_type": "markdown",
   "metadata": {},
   "source": [
    "*Exercise 3:* Demonstrate the basic properties of matrices with your matrix class by creating two 2 by 2 example matrices using your Matrix class and illustrating the following:\n",
    "\n",
    "$$\n",
    "(AB)C=A(BC)\n",
    "$$\n",
    "$$\n",
    "A(B+C)=AB+AC\n",
    "$$\n",
    "$$\n",
    "AB\\neq BA\n",
    "$$\n",
    "$$\n",
    "AI=A\n",
    "$$"
   ]
  },
  {
   "cell_type": "code",
   "execution_count": 19,
   "metadata": {},
   "outputs": [
    {
     "ename": "AttributeError",
     "evalue": "Matrix instance has no attribute '__getitem__'",
     "output_type": "error",
     "traceback": [
      "\u001b[0;31m\u001b[0m",
      "\u001b[0;31mAttributeError\u001b[0mTraceback (most recent call last)",
      "\u001b[0;32m<ipython-input-19-6357e58cacea>\u001b[0m in \u001b[0;36m<module>\u001b[0;34m()\u001b[0m\n\u001b[1;32m      4\u001b[0m \u001b[0mA\u001b[0m\u001b[0;34m=\u001b[0m\u001b[0mMatrix\u001b[0m\u001b[0;34m.\u001b[0m\u001b[0mMatrix\u001b[0m\u001b[0;34m(\u001b[0m\u001b[0mA\u001b[0m\u001b[0;34m)\u001b[0m\u001b[0;34m\u001b[0m\u001b[0m\n\u001b[1;32m      5\u001b[0m \u001b[0mB\u001b[0m\u001b[0;34m=\u001b[0m\u001b[0mMatrix\u001b[0m\u001b[0;34m.\u001b[0m\u001b[0mMatrix\u001b[0m\u001b[0;34m(\u001b[0m\u001b[0mB\u001b[0m\u001b[0;34m)\u001b[0m\u001b[0;34m\u001b[0m\u001b[0m\n\u001b[0;32m----> 6\u001b[0;31m \u001b[0mmult_AB\u001b[0m\u001b[0;34m=\u001b[0m\u001b[0mA\u001b[0m\u001b[0;34m.\u001b[0m\u001b[0m__matmult__\u001b[0m\u001b[0;34m(\u001b[0m\u001b[0mb\u001b[0m\u001b[0;34m)\u001b[0m\u001b[0;34m\u001b[0m\u001b[0m\n\u001b[0m\u001b[1;32m      7\u001b[0m \u001b[0mmult_AC\u001b[0m\u001b[0;34m=\u001b[0m\u001b[0mA\u001b[0m\u001b[0;34m.\u001b[0m\u001b[0m__matmult__\u001b[0m\u001b[0;34m(\u001b[0m\u001b[0mc\u001b[0m\u001b[0;34m)\u001b[0m\u001b[0;34m\u001b[0m\u001b[0m\n\u001b[1;32m      8\u001b[0m \u001b[0mAdd_BC\u001b[0m\u001b[0;34m=\u001b[0m\u001b[0mlist\u001b[0m\u001b[0;34m(\u001b[0m\u001b[0mb\u001b[0m\u001b[0;34m+\u001b[0m\u001b[0mc\u001b[0m\u001b[0;34m)\u001b[0m\u001b[0;34m\u001b[0m\u001b[0m\n",
      "\u001b[0;32m/home1/06206/deng451e/Solutions/DATA1401-Spring-2019/Labs/Lab-5/Matrix.py\u001b[0m in \u001b[0;36m__matmult__\u001b[0;34m(self, N)\u001b[0m\n\u001b[1;32m    146\u001b[0m \u001b[0;34m\u001b[0m\u001b[0m\n\u001b[1;32m    147\u001b[0m     \u001b[0;32mdef\u001b[0m \u001b[0m__matmult__\u001b[0m\u001b[0;34m(\u001b[0m\u001b[0mself\u001b[0m\u001b[0;34m,\u001b[0m\u001b[0mN\u001b[0m\u001b[0;34m)\u001b[0m\u001b[0;34m:\u001b[0m\u001b[0;34m\u001b[0m\u001b[0m\n\u001b[0;32m--> 148\u001b[0;31m         \u001b[0mSize_M\u001b[0m\u001b[0;34m=\u001b[0m\u001b[0mself\u001b[0m\u001b[0;34m.\u001b[0m\u001b[0mShape\u001b[0m\u001b[0;34m(\u001b[0m\u001b[0mself\u001b[0m\u001b[0;34m.\u001b[0m\u001b[0mM\u001b[0m\u001b[0;34m)\u001b[0m\u001b[0;34m\u001b[0m\u001b[0m\n\u001b[0m\u001b[1;32m    149\u001b[0m         \u001b[0mSize_N\u001b[0m\u001b[0;34m=\u001b[0m\u001b[0mself\u001b[0m\u001b[0;34m.\u001b[0m\u001b[0mShape\u001b[0m\u001b[0;34m(\u001b[0m\u001b[0mN\u001b[0m\u001b[0;34m)\u001b[0m\u001b[0;34m\u001b[0m\u001b[0m\n\u001b[1;32m    150\u001b[0m         \u001b[0mK\u001b[0m\u001b[0;34m=\u001b[0m\u001b[0;34m[\u001b[0m\u001b[0;34m[\u001b[0m\u001b[0;36m0\u001b[0m\u001b[0;34m]\u001b[0m \u001b[0;34m*\u001b[0m \u001b[0mSize_N\u001b[0m\u001b[0;34m[\u001b[0m\u001b[0;36m1\u001b[0m\u001b[0;34m]\u001b[0m \u001b[0;32mfor\u001b[0m \u001b[0mi\u001b[0m \u001b[0;32min\u001b[0m \u001b[0mrange\u001b[0m\u001b[0;34m(\u001b[0m\u001b[0mSize_M\u001b[0m\u001b[0;34m[\u001b[0m\u001b[0;36m0\u001b[0m\u001b[0;34m]\u001b[0m\u001b[0;34m)\u001b[0m\u001b[0;34m]\u001b[0m\u001b[0;34m\u001b[0m\u001b[0m\n",
      "\u001b[0;32m/home1/06206/deng451e/Solutions/DATA1401-Spring-2019/Labs/Lab-5/Matrix.py\u001b[0m in \u001b[0;36mShape\u001b[0;34m(self, N)\u001b[0m\n\u001b[1;32m     49\u001b[0m                     \u001b[0;32mtry\u001b[0m\u001b[0;34m:\u001b[0m\u001b[0;34m\u001b[0m\u001b[0m\n\u001b[1;32m     50\u001b[0m                         \u001b[0;32mwhile\u001b[0m \u001b[0mFindingColumn\u001b[0m\u001b[0;34m==\u001b[0m\u001b[0mTrue\u001b[0m\u001b[0;34m:\u001b[0m\u001b[0;34m\u001b[0m\u001b[0m\n\u001b[0;32m---> 51\u001b[0;31m                             \u001b[0mN\u001b[0m\u001b[0;34m[\u001b[0m\u001b[0;36m0\u001b[0m\u001b[0;34m]\u001b[0m\u001b[0;34m[\u001b[0m\u001b[0mm\u001b[0m\u001b[0;34m]\u001b[0m\u001b[0;34m\u001b[0m\u001b[0m\n\u001b[0m\u001b[1;32m     52\u001b[0m                             \u001b[0mm\u001b[0m\u001b[0;34m+=\u001b[0m\u001b[0;36m1\u001b[0m\u001b[0;34m\u001b[0m\u001b[0m\n\u001b[1;32m     53\u001b[0m                     \u001b[0;32mexcept\u001b[0m \u001b[0mIndexError\u001b[0m\u001b[0;34m:\u001b[0m\u001b[0;34m\u001b[0m\u001b[0m\n",
      "\u001b[0;31mAttributeError\u001b[0m: Matrix instance has no attribute '__getitem__'"
     ]
    }
   ],
   "source": [
    "a= [[1,1],[1,1]]\n",
    "b= [[2,1],[3,4]]\n",
    "c= [[3,4],[2,3]]\n",
    "A=Matrix.Matrix(A)\n",
    "B=Matrix.Matrix(B)\n",
    "mult_AB=A.__matmult__(b)\n",
    "mult_AC=A.__matmult__(c)\n",
    "Add_BC=list(b+c)\n",
    "A_B=A.__matmult__(b)\n",
    "A_C=A.__matmult__(c)\n",
    "B_C=B.__matmult__(c)\n",
    " "
   ]
  },
  {
   "cell_type": "markdown",
   "metadata": {},
   "source": [
    "## Matrices with `numpy`\n",
    "`numpy` is very well [documented](https://docs.scipy.org/doc/numpy/reference/index.html). You can find a list of linear algebra operations in `numpy` [here](https://docs.scipy.org/doc/numpy/reference/routines.linalg.html). A more general and detailed description of linear algebra with `numpy` and `scipy` (which implements same routines) can be found [here](https://docs.scipy.org/doc/scipy/reference/tutorial/linalg.html).\n"
   ]
  },
  {
   "cell_type": "code",
   "execution_count": 8,
   "metadata": {},
   "outputs": [
    {
     "name": "stdout",
     "output_type": "stream",
     "text": [
      "A:\n",
      "[[ 4.  5.]\n",
      " [-2. -1.]]\n",
      "y\n",
      "[12.  2.]\n",
      "Inverse of A:\n",
      "[[-0.16666667 -0.83333333]\n",
      " [ 0.33333333  0.66666667]]\n",
      "A * A_inverse:\n",
      "[[ 1.00000000e+00  1.11022302e-16]\n",
      " [-5.55111512e-17  1.00000000e+00]]\n",
      "Identity:\n",
      "[[1. 0.]\n",
      " [0. 1.]]\n",
      "Solution: x=\n",
      "[-3.66666667  5.33333333]\n",
      "Check solution: Ax=\n",
      "[12.  2.]\n",
      "[ True False]\n"
     ]
    }
   ],
   "source": [
    "import numpy as np\n",
    "\n",
    "A = np.array([[4.,5.],[-2.,-1.]])\n",
    "y = np.array([12.,2.])\n",
    "\n",
    "print \"A:\"\n",
    "print A\n",
    "print \"y\"\n",
    "print y\n",
    "\n",
    "A_inv=np.linalg.inv(A)\n",
    "\n",
    "print \"Inverse of A:\"\n",
    "print A_inv\n",
    "\n",
    "print \"A * A_inverse:\"\n",
    "print np.matmul(A,A_inv)\n",
    "\n",
    "print \"Identity:\"\n",
    "print np.eye(*A.shape)\n",
    "\n",
    "x= np.matmul(A_inv,y)\n",
    "\n",
    "print \"Solution: x=\"\n",
    "print x\n",
    "\n",
    "print \"Check solution: Ax=\"\n",
    "print np.matmul(A,x)\n",
    "print y==np.matmul(A,x)"
   ]
  },
  {
   "cell_type": "markdown",
   "metadata": {},
   "source": [
    "*Exercise 3:* Following the numpy example above, demonstrate that your matrix class reproduces the functionality of numpy. If you were unable to implement the inverse method you may use numpy's inverse. Note that the syntax for your matrix module may be different than numpy. "
   ]
  },
  {
   "cell_type": "code",
   "execution_count": 12,
   "metadata": {},
   "outputs": [
    {
     "ename": "TypeError",
     "evalue": "__init__() takes exactly 2 arguments (3 given)",
     "output_type": "error",
     "traceback": [
      "\u001b[0;31m\u001b[0m",
      "\u001b[0;31mTypeError\u001b[0mTraceback (most recent call last)",
      "\u001b[0;32m<ipython-input-12-9dd3819f3096>\u001b[0m in \u001b[0;36m<module>\u001b[0;34m()\u001b[0m\n\u001b[0;32m----> 1\u001b[0;31m \u001b[0mA\u001b[0m \u001b[0;34m=\u001b[0m \u001b[0mMatrix\u001b[0m\u001b[0;34m.\u001b[0m\u001b[0mMatrix\u001b[0m\u001b[0;34m(\u001b[0m\u001b[0;36m2\u001b[0m\u001b[0;34m,\u001b[0m\u001b[0;36m2\u001b[0m\u001b[0;34m)\u001b[0m\u001b[0;34m\u001b[0m\u001b[0m\n\u001b[0m\u001b[1;32m      2\u001b[0m \u001b[0mA_inv\u001b[0m\u001b[0;34m=\u001b[0m \u001b[0mMatrix\u001b[0m\u001b[0;34m.\u001b[0m\u001b[0mMatrix\u001b[0m\u001b[0;34m(\u001b[0m\u001b[0;36m2\u001b[0m\u001b[0;34m,\u001b[0m\u001b[0;36m2\u001b[0m\u001b[0;34m)\u001b[0m\u001b[0;34m\u001b[0m\u001b[0m\n\u001b[1;32m      3\u001b[0m \u001b[0mB\u001b[0m \u001b[0;34m=\u001b[0m \u001b[0mnp\u001b[0m\u001b[0;34m.\u001b[0m\u001b[0marray\u001b[0m\u001b[0;34m(\u001b[0m\u001b[0;34m[\u001b[0m\u001b[0;34m[\u001b[0m\u001b[0;36m4.\u001b[0m\u001b[0;34m,\u001b[0m\u001b[0;36m5.\u001b[0m\u001b[0;34m]\u001b[0m\u001b[0;34m,\u001b[0m\u001b[0;34m[\u001b[0m\u001b[0;34m-\u001b[0m\u001b[0;36m2.\u001b[0m\u001b[0;34m,\u001b[0m\u001b[0;34m-\u001b[0m\u001b[0;36m1.\u001b[0m\u001b[0;34m]\u001b[0m\u001b[0;34m]\u001b[0m\u001b[0;34m)\u001b[0m\u001b[0;34m\u001b[0m\u001b[0m\n\u001b[1;32m      4\u001b[0m \u001b[0my\u001b[0m\u001b[0;34m=\u001b[0m \u001b[0mMatrix\u001b[0m\u001b[0;34m.\u001b[0m\u001b[0mMatrix\u001b[0m\u001b[0;34m(\u001b[0m\u001b[0;36m2\u001b[0m\u001b[0;34m,\u001b[0m\u001b[0;36m2\u001b[0m\u001b[0;34m)\u001b[0m\u001b[0;34m\u001b[0m\u001b[0m\n\u001b[1;32m      5\u001b[0m \u001b[0my\u001b[0m\u001b[0;34m.\u001b[0m\u001b[0mM\u001b[0m\u001b[0;34m=\u001b[0m\u001b[0;34m[\u001b[0m\u001b[0;34m[\u001b[0m\u001b[0;36m12.\u001b[0m\u001b[0;34m,\u001b[0m\u001b[0;36m2.\u001b[0m\u001b[0;34m]\u001b[0m\u001b[0;34m]\u001b[0m\u001b[0;34m\u001b[0m\u001b[0m\n",
      "\u001b[0;31mTypeError\u001b[0m: __init__() takes exactly 2 arguments (3 given)"
     ]
    }
   ],
   "source": [
    "A = Matrix.Matrix(2,2)\n",
    "A_inv= Matrix.Matrix(2,2)\n",
    "B = np.array([[4.,5.],[-2.,-1.]])\n",
    "y= Matrix.Matrix(2,2)\n",
    "y.M=[[12.,2.]]\n",
    "A.M=[[4.,5.],[-2.,-1.]]\n",
    "print \"A:\"\n",
    "print A.M\n",
    "print \"y\"\n",
    "print y.M\n",
    "\n",
    "B_inv=list(np.linalg.inv(B))\n",
    "\n",
    "print \"Inverse of A:\"\n",
    "print np.linalg.inv(B)\n",
    "\n",
    "print \"A * A_inverse:\"\n",
    "print A.__matmult__(B_inv)\n",
    "\n",
    "print \"Identity:\"\n",
    "print A.eye()\n",
    "\n",
    "A_inv.M=B_inv\n",
    "z=list(y.M)\n",
    "#x= A_inv.__matmult__(z)\n",
    "\n",
    "print \"Solution: x=\"\n",
    "#print x\n",
    "x=[[-3.66666667,  5.33333333]]\n",
    "\n",
    "print A.__matmult__(x)"
   ]
  },
  {
   "cell_type": "markdown",
   "metadata": {},
   "source": [
    "## Matrix Elements\n",
    "Consider an arbitrary matrix $A$:\n",
    "\n",
    "\\begin{equation*}\n",
    "A_{m,n} = \n",
    " \\begin{pmatrix}\n",
    "  a_{11} & a_{12} & \\cdots & a_{1n} \\\\\n",
    "  a_{21} & a_{22} & \\cdots & a_{2n} \\\\\n",
    "  \\vdots  & \\vdots  & \\ddots & \\vdots\\\\\n",
    "  a_{m1} & a_{m2} & \\cdots & a_{mn} \n",
    "\\end{pmatrix}\n",
    "\\end{equation*}\n",
    "\n",
    "we define the columns as $a_j=A_{:,j}$:\n",
    "\n",
    "\\begin{pmatrix} \n",
    "| & | &  &|\\\\\n",
    "a_1 & a_2 & \\dots &\\ a_n\\\\\n",
    "| & | &  &|\n",
    "\\end{pmatrix}\n",
    "\n",
    "and rows $a^T_i = A_{i,:}$:\n",
    "\n",
    "\\begin{pmatrix} \n",
    "- & a^T_1 & -\\\\\n",
    "- & a^T_2 & -\\\\\n",
    " & \\vdots & \\\\\n",
    "- & a^T_3 & -\\\\\n",
    "\\end{pmatrix}\n",
    "\n",
    "or in `numpy`:\n"
   ]
  },
  {
   "cell_type": "code",
   "execution_count": null,
   "metadata": {},
   "outputs": [],
   "source": [
    "# Make a random matrix\n",
    "A = np.random.rand(10,5)\n",
    "\n",
    "print \"A:\"\n",
    "print A\n",
    "print \"A shape:\", A.shape\n",
    "\n",
    "print \"A columns:\"\n",
    "for i in range(A.shape[1]):\n",
    "    print A[:,i]\n",
    "\n",
    "print \"A rows:\"\n",
    "for j in range(A.shape[0]):\n",
    "    print A[j,:]\n",
    "    # Note you can also use A[j]"
   ]
  },
  {
   "cell_type": "markdown",
   "metadata": {},
   "source": [
    "*Exercise 4:* Add a new random feature to your matrix library and demonstrate the same numpy functionality as above. For a bit of extra credit, implement slicing in your override of `__getitem__` method in your matrix class."
   ]
  },
  {
   "cell_type": "code",
   "execution_count": 13,
   "metadata": {},
   "outputs": [
    {
     "ename": "TypeError",
     "evalue": "__init__() takes exactly 2 arguments (3 given)",
     "output_type": "error",
     "traceback": [
      "\u001b[0;31m\u001b[0m",
      "\u001b[0;31mTypeError\u001b[0mTraceback (most recent call last)",
      "\u001b[0;32m<ipython-input-13-c5b876fffd55>\u001b[0m in \u001b[0;36m<module>\u001b[0;34m()\u001b[0m\n\u001b[0;32m----> 1\u001b[0;31m \u001b[0mA\u001b[0m \u001b[0;34m=\u001b[0m \u001b[0mMatrix\u001b[0m\u001b[0;34m.\u001b[0m\u001b[0mMatrix\u001b[0m\u001b[0;34m(\u001b[0m\u001b[0;36m2\u001b[0m\u001b[0;34m,\u001b[0m\u001b[0;36m2\u001b[0m\u001b[0;34m)\u001b[0m\u001b[0;34m\u001b[0m\u001b[0m\n\u001b[0m\u001b[1;32m      2\u001b[0m \u001b[0mA\u001b[0m\u001b[0;34m.\u001b[0m\u001b[0mM\u001b[0m\u001b[0;34m=\u001b[0m\u001b[0mA\u001b[0m\u001b[0;34m.\u001b[0m\u001b[0mrand\u001b[0m\u001b[0;34m(\u001b[0m\u001b[0;36m10\u001b[0m\u001b[0;34m,\u001b[0m\u001b[0;36m5\u001b[0m\u001b[0;34m)\u001b[0m\u001b[0;34m\u001b[0m\u001b[0m\n\u001b[1;32m      3\u001b[0m \u001b[0;32mprint\u001b[0m \u001b[0;34m\"A:\"\u001b[0m\u001b[0;34m\u001b[0m\u001b[0m\n\u001b[1;32m      4\u001b[0m \u001b[0;32mprint\u001b[0m \u001b[0mA\u001b[0m\u001b[0;34m.\u001b[0m\u001b[0mM\u001b[0m\u001b[0;34m\u001b[0m\u001b[0m\n\u001b[1;32m      5\u001b[0m \u001b[0;32mprint\u001b[0m \u001b[0;34m\"A shape:\"\u001b[0m\u001b[0;34m,\u001b[0m \u001b[0mA\u001b[0m\u001b[0;34m.\u001b[0m\u001b[0mShape\u001b[0m\u001b[0;34m(\u001b[0m\u001b[0;34m)\u001b[0m\u001b[0;34m\u001b[0m\u001b[0m\n",
      "\u001b[0;31mTypeError\u001b[0m: __init__() takes exactly 2 arguments (3 given)"
     ]
    }
   ],
   "source": [
    "A = Matrix.Matrix(2,2)\n",
    "A.M=A.rand(10,5)\n",
    "print \"A:\"\n",
    "print A.M\n",
    "print \"A shape:\", A.Shape()\n",
    "shape=A.Shape()\n",
    "print \"A columns:\"\n",
    "for i in range(shape[1]):\n",
    "    print A.column(i)\n",
    "\n",
    "print \"A rows:\"\n",
    "for j in range(shape[0]):\n",
    "    print A.row(j)"
   ]
  },
  {
   "cell_type": "markdown",
   "metadata": {},
   "source": [
    "# Matrix Operations\n",
    "\n",
    "* Transpose: $(A^T)_{ij} = A_{ji}$\n",
    "* Sum (elementwise): $C_{ij} = A_{ij} + B_{ij}$\n",
    "* Elementwise product: $C_{ij} = A_{ij} B_{ij}$\n",
    "* Matrix product: $C=A \\cdot B$: $C_{ij} = \\sum_{k} A_{ik} B_{kj}$.\n",
    "   * Note than if size of $A$ is $n \\times m$ then $B$ has to be of size $m \\times k$ and the resulting matrix will be of size $n \\times k$.\n",
    "   * Good way to visualize product:\n",
    "    \\begin{equation*}\n",
    "    AB=\n",
    "\\begin{pmatrix} \n",
    "- & a_1 & -\\\\\n",
    "- & a_2 & -\\\\\n",
    " & \\vdots & \\\\\n",
    "- & a_m & -\\\\\n",
    "\\end{pmatrix} \n",
    "\\begin{pmatrix} \n",
    "| & | &  &|\\\\\n",
    "b_1 & b_2 & \\dots &\\ b_n\\\\\n",
    "| & | &  &|\n",
    "\\end{pmatrix}=\n",
    "\\begin{pmatrix}\n",
    "a^T_1b_1 & a^T_1b_2 & \\dots & a^T_1b_n\\\\\n",
    "a^T_2b_1 & a^T_2b_2 & \\dots & a^T_2b_n\\\\\n",
    "\\vdots & \\vdots & \\ddots & \\vdots \\\\\n",
    "a^T_mb_1 & a^T_mb_2 & \\dots & a^T_mb_n\n",
    "\\end{pmatrix}\n",
    "\\end{equation*}"
   ]
  },
  {
   "cell_type": "code",
   "execution_count": null,
   "metadata": {},
   "outputs": [],
   "source": [
    "A = np.random.rand(5,4) \n",
    "print \"A:\"\n",
    "print A\n",
    "\n",
    "print \"A Transpose:\"\n",
    "print A.transpose()\n",
    "\n",
    "B = np.random.rand(5,4) \n",
    "print \"B:\",\n",
    "print B\n",
    "\n",
    "print \"A+B:\"\n",
    "print A+B\n",
    "\n",
    "print \"A*B:\"\n",
    "print A*B\n",
    "\n",
    "# For Matrix Multiply we need correct size B\n",
    "B1 = np.random.rand(4,5) \n",
    "\n",
    "print \"Matrix Multiply: A (dot) B1:\"\n",
    "print np.matmul(A,B1)"
   ]
  },
  {
   "cell_type": "markdown",
   "metadata": {},
   "source": [
    "*Exercise 5:* Demonstrate basic matrix operations above with your matrix library."
   ]
  },
  {
   "cell_type": "code",
   "execution_count": null,
   "metadata": {},
   "outputs": [],
   "source": [
    "A = Matrix.Matrix(5,4)\n",
    "A_rand=A.rand(5,4)\n",
    "print \"A:\"\n",
    "print A_rand\n",
    "\n",
    "print \"A Transpose:\"\n",
    "print Matrix.Matrix.transpose(A_rand)\n",
    "\n",
    "B = Matrix.Matrix(5,4)\n",
    "B_rand=B.rand(5,4)\n",
    "print \"B:\",\n",
    "print B_rand\n",
    "\n",
    "print \"A+B:\"\n",
    "print A+B_rand\n",
    "\n",
    "print \"A*B:\"\n",
    "print A.elementmult(B_rand)\n",
    "\n",
    " \n",
    "B1 = Matrix.Matrix(4,5) \n",
    "B1.M=B1.rand(4,5)\n",
    "print \"Matrix Multiply: A (dot) B1:\"\n",
    "print A.__matmult__(B1.M)"
   ]
  },
  {
   "cell_type": "markdown",
   "metadata": {},
   "source": [
    "## Vector Products\n",
    "\n",
    "* Dot product: $x\\cdot y = x^T y = \\sum_{i=1}^n x_i y_i$\n",
    "* Other product: \n",
    "\\begin{equation*}\n",
    "\\begin{pmatrix} x_1\\\\x_2\\\\ \\vdots \\\\x_m \\end{pmatrix} \\begin{pmatrix} y_1&y_2& \\dots &y_n\\end{pmatrix} =\n",
    "\\begin{pmatrix}\n",
    "x_1y_1 & x_1y_2 & \\dots & x_1y_n\\\\\n",
    "x_2y_1 & x_2y_2 & \\dots & x_2y_n\\\\\n",
    "\\vdots & \\vdots & \\ddots & \\vdots \\\\\n",
    "x_my_1 & x_my_2 & \\dots & x_my_n\n",
    "\\end{pmatrix}\n",
    "\\end{equation*}\n",
    "\n",
    "In `numpy`:"
   ]
  },
  {
   "cell_type": "code",
   "execution_count": null,
   "metadata": {},
   "outputs": [],
   "source": [
    "x=np.array([1,2,3])\n",
    "y=np.array([4,5,6])\n",
    "\n",
    "print \"x (dot) y:\"\n",
    "print np.dot(x,y)\n",
    "\n",
    "print \"Other product:\"\n",
    "print np.outer(x,y)"
   ]
  },
  {
   "cell_type": "markdown",
   "metadata": {},
   "source": [
    "*Exercise 6:* Demonstrate vector product operations above with your matrix library."
   ]
  },
  {
   "cell_type": "code",
   "execution_count": 2,
   "metadata": {},
   "outputs": [
    {
     "name": "stdout",
     "output_type": "stream",
     "text": [
      "x (dot) y:32\n",
      "Other product:[[4, 5, 6], [8, 10, 12], [12, 15, 18]]\n"
     ]
    }
   ],
   "source": [
    "A=[1,2,3]\n",
    "B=[4,5,6]\n",
    "x=Matrix.Vector(A,B)\n",
    " \n",
    "print \"x (dot) y:\"+str(x.dot())\n",
    "print \"Other product:\"+str(x.outer())"
   ]
  },
  {
   "cell_type": "markdown",
   "metadata": {},
   "source": [
    "## Norms\n",
    "* $l=1$ Norm: $\\parallel x \\parallel_1 = \\sum_{i=1}^{n}|x_i|$\n",
    "* $l=2$ Norm: $\\parallel x \\parallel_2 = \\sqrt{\\sum_{i=1}^{n}x_i^2}$\n",
    "* $l=p$ Norm: $\\parallel x \\parallel_p = \\left(\\sum_{i=1}^{n}x_i^p\\right)^\\frac{1}{p}$\n",
    "* $l=\\infty$ Norm: $\\parallel x \\parallel_\\infty = \\max_i |x_i|$\n",
    "* Law of cosines: $x \\cdot y = $\\parallel x \\parallel_2 $\\parallel y \\parallel_2 \\cos{\\theta}$\n",
    "\n",
    "In `numpy`:"
   ]
  },
  {
   "cell_type": "code",
   "execution_count": 14,
   "metadata": {},
   "outputs": [
    {
     "name": "stdout",
     "output_type": "stream",
     "text": [
      "0 3.0\n",
      "1 6.0\n",
      "2 3.7416573867739413\n",
      "3 3.3019272488946263\n",
      "4 3.1463462836457885\n",
      "5 3.077384885394063\n",
      "6 3.043010262919305\n",
      "7 3.0246626009458444\n",
      "8 3.014443335890572\n",
      "9 3.0085886861624296\n"
     ]
    }
   ],
   "source": [
    "x=[1,2,3]\n",
    "for i in range(10):\n",
    "    print i,np.linalg.norm(x,i)"
   ]
  },
  {
   "cell_type": "markdown",
   "metadata": {},
   "source": [
    "*Exercise 7:* Test the norm implementationth your matrix library."
   ]
  },
  {
   "cell_type": "code",
   "execution_count": 15,
   "metadata": {},
   "outputs": [
    {
     "name": "stdout",
     "output_type": "stream",
     "text": [
      "0 3.0\n",
      "1 6.0\n",
      "2 3.74165738677\n",
      "3 3.30192724889\n",
      "4 3.14634628365\n",
      "5 3.07738488539\n",
      "6 3.04301026292\n",
      "7 3.02466260095\n",
      "8 3.01444333589\n",
      "9 3.00858868616\n"
     ]
    }
   ],
   "source": [
    "x=Matrix.Vector()\n",
    "A=[1.0,2.0,3.0]\n",
    "for i in range(10):\n",
    "    print i,x.norm(A,i)"
   ]
  },
  {
   "cell_type": "code",
   "execution_count": null,
   "metadata": {},
   "outputs": [],
   "source": []
  },
  {
   "cell_type": "code",
   "execution_count": null,
   "metadata": {},
   "outputs": [],
   "source": []
  },
  {
   "cell_type": "code",
   "execution_count": null,
   "metadata": {},
   "outputs": [],
   "source": []
  },
  {
   "cell_type": "code",
   "execution_count": null,
   "metadata": {},
   "outputs": [],
   "source": []
  }
 ],
 "metadata": {
  "kernelspec": {
   "display_name": "Python 2",
   "language": "python",
   "name": "python2"
  },
  "language_info": {
   "codemirror_mode": {
    "name": "ipython",
    "version": 2
   },
   "file_extension": ".py",
   "mimetype": "text/x-python",
   "name": "python",
   "nbconvert_exporter": "python",
   "pygments_lexer": "ipython2",
   "version": "2.7.15"
  }
 },
 "nbformat": 4,
 "nbformat_minor": 2
}
