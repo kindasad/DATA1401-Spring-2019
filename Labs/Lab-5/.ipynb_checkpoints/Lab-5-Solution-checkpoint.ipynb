{
 "cells": [
  {
   "cell_type": "markdown",
   "metadata": {},
   "source": [
    "## Lab 5\n",
    "\n",
    "1.Copy all of your Exam 1 answers into this notebook. If necessary, spend some time to complete and/or correct the functions.\n",
    "\n",
    "2.Following the example in lecture 11, create a matrix class that implements all of your matrix functions as methods.\n",
    "\n",
    "3.Overload the python built-in methods when appropriate, for exmaple matrix addition.\n",
    "\n",
    "4.Create a"
   ]
  },
  {
   "cell_type": "code",
   "execution_count": 20,
   "metadata": {
    "collapsed": true
   },
   "outputs": [],
   "source": [
    "def constant(n,m,c):\n",
    "    out=[[c]*m]*n\n",
    "     \n",
    "    return out\n",
    "\n",
    "def zeros(n,m):\n",
    "    out=[[0]*m]*n\n",
    "     \n",
    "    return out\n",
    "def ones(n,m):\n",
    "    out=[[1]*m]*n\n",
    "     \n",
    "    return out"
   ]
  },
  {
   "cell_type": "code",
   "execution_count": 21,
   "metadata": {},
   "outputs": [
    {
     "name": "stdout",
     "output_type": "stream",
     "text": [
      "[[5, 5, 5], [5, 5, 5]]\n",
      "[[0, 0, 0], [0, 0, 0]]\n",
      "[[1, 1, 1], [1, 1, 1]]\n"
     ]
    }
   ],
   "source": [
    "print constant(2,3,5)\n",
    "print zeros(2,3)\n",
    "print ones(2,3)"
   ]
  },
  {
   "cell_type": "markdown",
   "metadata": {},
   "source": [
    " b."
   ]
  },
  {
   "cell_type": "code",
   "execution_count": 22,
   "metadata": {
    "collapsed": true
   },
   "outputs": [],
   "source": [
    "def zeros(n,m):\n",
    "    out=[[0]*m]*n\n",
    "     \n",
    "    return out\n",
    "def ones(n,m):\n",
    "    out=[[1]*m]*n\n",
    "     \n",
    "    return out"
   ]
  },
  {
   "cell_type": "code",
   "execution_count": 23,
   "metadata": {},
   "outputs": [
    {
     "name": "stdout",
     "output_type": "stream",
     "text": [
      "[[0, 0, 0], [0, 0, 0], [0, 0, 0]]\n",
      "[[1, 1, 1, 1], [1, 1, 1, 1], [1, 1, 1, 1], [1, 1, 1, 1]]\n"
     ]
    }
   ],
   "source": [
    "print zeros(3,3)\n",
    "print ones(4,4)"
   ]
  },
  {
   "cell_type": "markdown",
   "metadata": {},
   "source": [
    "c."
   ]
  },
  {
   "cell_type": "code",
   "execution_count": 24,
   "metadata": {
    "collapsed": true
   },
   "outputs": [],
   "source": [
    "def eye(n):\n",
    "    out=[[0 for i in range(n)] for j in range(n)]\n",
    "    \n",
    "    for i in range (0,n):\n",
    "        \n",
    "        out[i][i]=1\n",
    "    return out "
   ]
  },
  {
   "cell_type": "code",
   "execution_count": 25,
   "metadata": {},
   "outputs": [
    {
     "name": "stdout",
     "output_type": "stream",
     "text": [
      "[[1, 0, 0], [0, 1, 0], [0, 0, 1]]\n"
     ]
    }
   ],
   "source": [
    "print eye(3)"
   ]
  },
  {
   "cell_type": "markdown",
   "metadata": {
    "collapsed": true
   },
   "source": [
    "3.Slicing\n",
    "\n",
    "a."
   ]
  },
  {
   "cell_type": "code",
   "execution_count": 26,
   "metadata": {
    "collapsed": true
   },
   "outputs": [],
   "source": [
    "def shape(M):\n",
    "    for i in range (0,len(M)):\n",
    "        for j in range (0,len(M)):\n",
    "            if len(M[i])!=len(M[j]):\n",
    "                return False\n",
    "    row=len(M)\n",
    "    co=len(M[0])\n",
    "    return row,co"
   ]
  },
  {
   "cell_type": "code",
   "execution_count": 27,
   "metadata": {},
   "outputs": [
    {
     "name": "stdout",
     "output_type": "stream",
     "text": [
      "False\n",
      "(2, 2)\n",
      "[[1, 0], [0, 1]]\n"
     ]
    }
   ],
   "source": [
    "print shape([[1,2],[1],[1,2,3]])\n",
    "print shape(eye(2))\n",
    "print eye(2)"
   ]
  },
  {
   "cell_type": "markdown",
   "metadata": {},
   "source": [
    "b."
   ]
  },
  {
   "cell_type": "code",
   "execution_count": 28,
   "metadata": {
    "collapsed": true
   },
   "outputs": [],
   "source": [
    "def row(M,n):\n",
    "    return M[n-1]\n",
    "def column(M,n):\n",
    "    out=[]\n",
    "    for i in range(0,len(M)):\n",
    "        out.append(M[i][n-1])\n",
    "    return out"
   ]
  },
  {
   "cell_type": "code",
   "execution_count": 29,
   "metadata": {},
   "outputs": [
    {
     "name": "stdout",
     "output_type": "stream",
     "text": [
      "[[1, 0], [0, 1]]\n",
      "[0, 1]\n",
      "[0, 1, 0]\n"
     ]
    }
   ],
   "source": [
    "print eye(2)\n",
    "print row(eye(2),2)\n",
    "print column(eye(3),2)"
   ]
  },
  {
   "cell_type": "markdown",
   "metadata": {},
   "source": [
    "c."
   ]
  },
  {
   "cell_type": "code",
   "execution_count": 30,
   "metadata": {
    "collapsed": true
   },
   "outputs": [],
   "source": [
    "def block(M,n_0,n_1,m_0,m_1):\n",
    "    a=n_1-n_0+1\n",
    "    b=m_1-m_0+1\n",
    "    out=[[0 for i in range(a)] for j in range(b)]\n",
    "    c=0 \n",
    "     \n",
    "    for i in range(n_0-1,n_1):\n",
    "        d=0\n",
    "        for j in range(m_0-1,m_1):\n",
    "            out[c][d]=M[i][j]\n",
    "            d=d+1\n",
    "        c=c+1\n",
    "    return out"
   ]
  },
  {
   "cell_type": "code",
   "execution_count": 31,
   "metadata": {},
   "outputs": [
    {
     "name": "stdout",
     "output_type": "stream",
     "text": [
      "[[1, 0, 0, 0, 0], [0, 1, 0, 0, 0], [0, 0, 1, 0, 0], [0, 0, 0, 1, 0], [0, 0, 0, 0, 1]]\n",
      "[[1, 0, 0], [0, 1, 0], [0, 0, 1]]\n"
     ]
    }
   ],
   "source": [
    "print eye(5)\n",
    "print block(eye(5),1,3,1,3)"
   ]
  },
  {
   "cell_type": "markdown",
   "metadata": {},
   "source": [
    "4.Matrix Operation\n",
    "\n",
    "a"
   ]
  },
  {
   "cell_type": "code",
   "execution_count": 32,
   "metadata": {
    "collapsed": true
   },
   "outputs": [],
   "source": [
    "def transpose(m):\n",
    "    n=len(m)\n",
    "    out=[[0 for i in range(n)] for j in range(n)]\n",
    "     \n",
    "    for i in range(0,len(m)):\n",
    "         \n",
    "        for j in range(0,len(m)):\n",
    "              out[i][j]=m[j][i]\n",
    "    return out"
   ]
  },
  {
   "cell_type": "code",
   "execution_count": 33,
   "metadata": {},
   "outputs": [
    {
     "name": "stdout",
     "output_type": "stream",
     "text": [
      "[[1, 1, 1], [2, 2, 2], [3, 3, 3]]\n"
     ]
    }
   ],
   "source": [
    "print transpose([[1,2,3],\n",
    "                 [1,2,3],\n",
    "                 [1,2,3]])"
   ]
  },
  {
   "cell_type": "markdown",
   "metadata": {},
   "source": [
    "b."
   ]
  },
  {
   "cell_type": "code",
   "execution_count": 34,
   "metadata": {
    "collapsed": true
   },
   "outputs": [],
   "source": [
    "def Scalarmul(M,c):\n",
    "    n=len(M)\n",
    "    for i in range(0,n):\n",
    "        for j in range(0,n):\n",
    "            M[i][j]=M[i][j]*c\n",
    "    return M"
   ]
  },
  {
   "cell_type": "code",
   "execution_count": 35,
   "metadata": {},
   "outputs": [
    {
     "name": "stdout",
     "output_type": "stream",
     "text": [
      "[[2, 0], [0, 2]]\n"
     ]
    }
   ],
   "source": [
    "print Scalarmul(eye(2),2)"
   ]
  },
  {
   "cell_type": "markdown",
   "metadata": {},
   "source": [
    "c."
   ]
  },
  {
   "cell_type": "code",
   "execution_count": 36,
   "metadata": {
    "collapsed": true
   },
   "outputs": [],
   "source": [
    "def add(M,N):\n",
    "    if len(M)!=len(N) or len(M[0])!=len(N[0]):\n",
    "        return False\n",
    "    n=len(M)\n",
    "    out=[[0 for i in range(n)] for j in range(n)]\n",
    "     \n",
    "    for i in range (0,len(M)):\n",
    "        for j in range(0,len(M)):\n",
    "            out[i][j]=M[i][j]+N[i][j]\n",
    "    return out"
   ]
  },
  {
   "cell_type": "code",
   "execution_count": 37,
   "metadata": {},
   "outputs": [
    {
     "name": "stdout",
     "output_type": "stream",
     "text": [
      "[[1, 0], [0, 1]]\n",
      "[[2, 0], [0, 2]]\n"
     ]
    }
   ],
   "source": [
    "print eye(2)\n",
    "print add(eye(2),eye(2))"
   ]
  },
  {
   "cell_type": "markdown",
   "metadata": {},
   "source": [
    "d."
   ]
  },
  {
   "cell_type": "code",
   "execution_count": 39,
   "metadata": {},
   "outputs": [],
   "source": [
    "def sub(M,N):\n",
    "    a=Scalarmul(N,-1)\n",
    "    out=add(M,a)\n",
    "    return out"
   ]
  },
  {
   "cell_type": "code",
   "execution_count": 40,
   "metadata": {},
   "outputs": [
    {
     "name": "stdout",
     "output_type": "stream",
     "text": [
      "[[1, 0], [0, 1]]\n",
      "[[0, 0], [0, 0]]\n"
     ]
    }
   ],
   "source": [
    "print eye(2)\n",
    "print sub(eye(2),eye(2))"
   ]
  },
  {
   "cell_type": "markdown",
   "metadata": {},
   "source": [
    "e."
   ]
  },
  {
   "cell_type": "code",
   "execution_count": 41,
   "metadata": {
    "collapsed": true
   },
   "outputs": [],
   "source": [
    "def elementmult(M,N):\n",
    "     \n",
    "    n=len(M)\n",
    "    out=[[0 for i in range(n)] for j in range(n)]\n",
    "     \n",
    "    for i in range (0,len(M)):\n",
    "        for j in range(0,len(M)):\n",
    "            out[i][j]=M[i][j]*N[i][j]\n",
    "    return out"
   ]
  },
  {
   "cell_type": "code",
   "execution_count": 42,
   "metadata": {},
   "outputs": [
    {
     "name": "stdout",
     "output_type": "stream",
     "text": [
      "[[1, 0], [0, 1]]\n",
      "[[1, 0], [0, 1]]\n"
     ]
    }
   ],
   "source": [
    "print eye(2)\n",
    "print elementmult(eye(2),eye(2))"
   ]
  },
  {
   "cell_type": "markdown",
   "metadata": {},
   "source": [
    "f."
   ]
  },
  {
   "cell_type": "code",
   "execution_count": 43,
   "metadata": {
    "collapsed": true
   },
   "outputs": [],
   "source": [
    "def mul(a,b):\n",
    "    out=[]\n",
    "    for i in range(0,len(a)):\n",
    "        out.append(a[i]*b[i])\n",
    "    return out\n",
    "def matmult(M,N):\n",
    "    if len(M)==1:\n",
    "        if len(M[0])!=len(N):\n",
    "            return False\n",
    "    if len(M[0])!=len(N):\n",
    "        return False\n",
    "    n=len(N[0])\n",
    "    m=len(M)\n",
    "    out=[[0 for i in range(n)] for j in range(m)]\n",
    "    b=transpose(N)\n",
    "    for i in range (0,m):\n",
    "        for j in range(0,n):\n",
    "            a=sum(mul(M[i],b[j]))\n",
    "            out[i][j]=a\n",
    "    return out\n",
    "    "
   ]
  },
  {
   "cell_type": "code",
   "execution_count": 44,
   "metadata": {},
   "outputs": [
    {
     "name": "stdout",
     "output_type": "stream",
     "text": [
      "[[4, 4], [3, 3]]\n"
     ]
    }
   ],
   "source": [
    "M=[[1,2],[1,1]]\n",
    "N=[[2,2],[1,1]]\n",
    "print (matmult(M,N))"
   ]
  },
  {
   "cell_type": "markdown",
   "metadata": {},
   "source": [
    " g."
   ]
  },
  {
   "cell_type": "code",
   "execution_count": 45,
   "metadata": {
    "collapsed": true
   },
   "outputs": [],
   "source": [
    "def dot(a,b):\n",
    "    if len(a)!=len(b):\n",
    "        return False\n",
    "    return sum(map(lambda x,y:x*y, a,b))\n",
    "def outer(a,b):\n",
    "    m=len(a)\n",
    "    n=len(b)\n",
    "    out=[[0 for i in range(n)] for j in range(m)]\n",
    "    for i in range (0,m):\n",
    "        for j in range(0,n):\n",
    "            out[i][j]=a[i]*b[j]\n",
    "    return out\n",
    "    "
   ]
  },
  {
   "cell_type": "code",
   "execution_count": 46,
   "metadata": {},
   "outputs": [
    {
     "name": "stdout",
     "output_type": "stream",
     "text": [
      "8\n",
      "[[4, 6]]\n"
     ]
    }
   ],
   "source": [
    "print dot([1,2],[2,3])\n",
    "print outer([2],[2,3])"
   ]
  },
  {
   "cell_type": "markdown",
   "metadata": {},
   "source": [
    "5.Norms"
   ]
  },
  {
   "cell_type": "code",
   "execution_count": 70,
   "metadata": {},
   "outputs": [],
   "source": [
    "import math\n",
    "def norm(M,x):\n",
    "    n=len(M)\n",
    "    a=0\n",
    "    out=[[0 for i in range(n)] for j in range(n)]\n",
    "    for i in range(0,len(M)):\n",
    "         for j in range (0,len(M[0])):\n",
    "                 \n",
    "                a=a+abs(M[i][j]**x)\n",
    "        \n",
    "    a=a**(1.0/x)\n",
    "    return a"
   ]
  },
  {
   "cell_type": "code",
   "execution_count": 71,
   "metadata": {},
   "outputs": [
    {
     "name": "stdout",
     "output_type": "stream",
     "text": [
      "3.0\n"
     ]
    }
   ],
   "source": [
    "print norm([[1],[2],[3]],100)"
   ]
  },
  {
   "cell_type": "markdown",
   "metadata": {},
   "source": [
    "6.Linear Algebre"
   ]
  },
  {
   "cell_type": "code",
   "execution_count": 90,
   "metadata": {},
   "outputs": [],
   "source": [
    "import math\n",
    "def compare(M):\n",
    "    a=len(M)\n",
    "    for i in range(0,a):\n",
    "         if abs(M[i][i]-1)>0.1:\n",
    "                return False\n",
    "    return True\n",
    "def copy(M):\n",
    "    n=len(M)\n",
    "    out=[[0 for i in range(n)] for j in range(n)]\n",
    "    for i in range (0,n):\n",
    "        for j in range (0,n):\n",
    "            out[i][j]=M[i][j]\n",
    "    return out\n",
    "def inv(M):\n",
    "     \n",
    "    A=copy(M)\n",
    "     \n",
    "     \n",
    "     \n",
    "     \n",
    "    p=0\n",
    "    d=1\n",
    "    while True: \n",
    "            if p>=len(M):\n",
    "                break\n",
    "            if M[p][p]==0:\n",
    "                break\n",
    "            d=d*M[p][p]\n",
    "             \n",
    "                    \n",
    "            for i in range (0,len(M)):\n",
    "                if i!=p:\n",
    "                    M[i][p]=-M[i][p]/M[p][p]\n",
    "                   \n",
    "            for i in range (0,len(M)):\n",
    "                for j in range (0,len(M)):\n",
    "                    if i!=p and j!=p:\n",
    "                        M[i][j]=M[i][j]+M[p][j]*M[i][p]\n",
    "            for j in range (0,len(M)):\n",
    "                if j!=p:\n",
    "                    M[p][j]=M[p][j]/M[p][p]            \n",
    "            M[p][p]=1.0/M[p][p]\n",
    "            \n",
    "            p=p+1\n",
    "            if compare(matmult(M,A)):   \n",
    "                print 'yes'\n",
    "                return M\n",
    "     \n",
    "    \n",
    "    print \"nope\"\n",
    "    return False"
   ]
  },
  {
   "cell_type": "code",
   "execution_count": 92,
   "metadata": {},
   "outputs": [
    {
     "name": "stdout",
     "output_type": "stream",
     "text": [
      "yes\n",
      "[[1.0, 0, 0, 0], [0, 1, 0, 0], [0, 0, 1, 0], [0, 0, 0, 1]]\n",
      "yes\n",
      "[[0.5, 0.5], [0.0, 0.1111111111111111]]\n"
     ]
    }
   ],
   "source": [
    "M=[[1.0,2.0,3.0,4.0,5.0],[1.0,3.0,3.0,4.0,5.0],[1.0,9.0,3.0,4.0,5.0],[1.0,8.0,3.0,4.0,5.0],[1.0,6.0,3.0,4.0,5.0]]\n",
    "print inv(eye(4))\n",
    "a=[[2.0,-9.0],[0,9.0]]\n",
    "print inv(a)"
   ]
  },
  {
   "cell_type": "code",
   "execution_count": null,
   "metadata": {
    "collapsed": true
   },
   "outputs": [],
   "source": []
  },
  {
   "cell_type": "code",
   "execution_count": null,
   "metadata": {
    "collapsed": true
   },
   "outputs": [],
   "source": [
    " "
   ]
  },
  {
   "cell_type": "code",
   "execution_count": 197,
   "metadata": {},
   "outputs": [
    {
     "name": "stdout",
     "output_type": "stream",
     "text": [
      "2\n",
      "3\n",
      "6\n"
     ]
    }
   ],
   "source": [
    "a=[[1,2,3],[1,2,3],[1,2,3]]\n",
    "print a[1][1]\n",
    "print len(a)\n",
    "print sum(a[1])"
   ]
  },
  {
   "cell_type": "code",
   "execution_count": 107,
   "metadata": {},
   "outputs": [
    {
     "name": "stdout",
     "output_type": "stream",
     "text": [
      "[[1, 2, 3], [1, 2, 3], [1, 2, 3]]\n"
     ]
    }
   ],
   "source": [
    "print matmult(eye(3),[[1,2,3],[1,2,3],[1,2,3]])"
   ]
  },
  {
   "cell_type": "code",
   "execution_count": 108,
   "metadata": {},
   "outputs": [
    {
     "data": {
      "text/plain": [
       "1"
      ]
     },
     "execution_count": 108,
     "metadata": {},
     "output_type": "execute_result"
    }
   ],
   "source": [
    "abs(-1)"
   ]
  },
  {
   "cell_type": "code",
   "execution_count": null,
   "metadata": {},
   "outputs": [],
   "source": [
    " "
   ]
  },
  {
   "cell_type": "code",
   "execution_count": 2,
   "metadata": {},
   "outputs": [],
   "source": [
    "class matrix:\n",
    "    \n",
    "    def __init__(self,n=1,m=1):\n",
    "        self.n=n  \n",
    "        self.m=m   \n",
    "        self.M = [[0.0 for i in range(self.m)] for i in range(self.n)]\n",
    "        \n",
    "    def PrintM(self):\n",
    "        for x in self.M:\n",
    "            print x\n",
    "        \n",
    "    def constant(self,c):\n",
    "        self.M= [[float(c)for i in range(self.m)]  for i in range(self.n)]\n",
    "        return self.M\n",
    "    \n",
    "    def zeros(self):\n",
    "        return [[0.0 for i in range(self.m)]  for i in range(self.n)]\n",
    "    \n",
    "    def ones(self):\n",
    "        return [[1.0 for i in range(self.m)] for i in range(self.n)]\n",
    "    \n",
    "    def eye(self):\n",
    "        Identity=[[0.0 for i in range(self.n)] for i in range(self.n)]\n",
    "        for i in range(0,self.n):\n",
    "                Identity[i][i]=1.0\n",
    "        return Identity\n",
    "    \n",
    "    def Shape(self,M=list()):\n",
    "        FindingRow=True\n",
    "        FindingColumn=True\n",
    "        shape=0\n",
    "        ######## iterating n and m till i find number of rows and colums. I know it will go out of index so i add a try and except###\n",
    "        try:\n",
    "            while FindingRow==True:\n",
    "                try:\n",
    "                    while FindingColumn==True:\n",
    "                        self.M[0][self.m]\n",
    "                        self.m+=1\n",
    "                except IndexError:\n",
    "                    FindingColumn=False\n",
    "                self.M[self.n][0]\n",
    "                self.n+=1\n",
    "        except IndexError:\n",
    "            FindingRow=False\n",
    "        size=(self.n,)+(self.m,)  \n",
    "        ######### Now testing that the matrix was made correctly ########\n",
    "        for i in range(0,self.n):\n",
    "            if len(self.M[i]) !=self.m:\n",
    "                return False\n",
    "        return size\n",
    "    \n",
    "    def row(self,n):\n",
    "        return self.M[n]\n",
    "    \n",
    "    def column(self,n):\n",
    "        self.Shape(self.M)\n",
    "        hold=[]\n",
    "        for i in range(0,self.Shape(self.M)):\n",
    "            hold.append(self.M[i][n])\n",
    "        return hold\n",
    "    \n",
    "    def block(self,n_0,n_1,m_0,m_1):\n",
    "        hold=[[0 for i in range (n_1-n_0+1)]  for j in range(m_1-m_0+1)]\n",
    "        x=0\n",
    "        y=0\n",
    "        try:\n",
    "            for m in range(m_0,m_1+1):\n",
    "                for n in range(n_0,n_1+1):\n",
    "                    hold[x][y]=self.M[m][n]\n",
    "                    y+=1\n",
    "                y=0\n",
    "                x+=1\n",
    "        except IndexError:\n",
    "            return \"failed\"\n",
    "        return hold\n",
    "    \n",
    "    def transpose(self):\n",
    "        Size=self.Shape(self.M)\n",
    "        P=[[0 for i in range (Size[0])] for j in range(Size[1])]\n",
    "        if Size==False:\n",
    "            return \"failed\"\n",
    "        hold=[[0 for i in range (Size[0])]   for j in range(Size[1])]\n",
    "        for i in range(Size[0]):\n",
    "            for j in range(Size[1]):\n",
    "                hold[j][i]=self.M[i][j]\n",
    "        P=list(hold)\n",
    "        return P\n",
    "    \n",
    "    def __mul__(self,c):\n",
    "        Size=self.Shape(self.M)\n",
    "        P=[[0 for i in range (Size[0])] for j in range(Size[1])]\n",
    "        if Size==False:\n",
    "            return \"failed\"\n",
    "        for i in range(Size[0]):\n",
    "            for j in range(Size[1]):\n",
    "                P[i][j]=self.M[i][j]*c\n",
    "        return P\n",
    "    \n",
    "    def __add__(self,N):\n",
    "        Size_M=self.Shape(self.M)\n",
    "        Size_N=self.Shape(N)\n",
    "        if Size_N==False or Size_M==False:\n",
    "            return \"failed\"\n",
    "        P=[[0.0] * self.m for i in range(self.n)]\n",
    "        if Size_M[0]==Size_N[0] and Size_M[1]==Size_N[1]:\n",
    "            for i in range(Size_M[0]):\n",
    "                for j in range(Size_M[1]):\n",
    "                    P[i][j]=self.M[i][j]+N[i][j]\n",
    "        else:\n",
    "            return \"matrix not same size\"\n",
    "        return P\n",
    "\n",
    "    def __sub__(self,N):\n",
    "        Size=self.Shape(N)\n",
    "        for i in range(Size[0]):\n",
    "            for j in range(Size[1]):\n",
    "                N[i][j]=N[i][j]*-1\n",
    "        P=self.__add__(N)\n",
    "        for i in range(Size[0]):\n",
    "            for j in range(Size[1]):\n",
    "                N[i][j]=N[i][j]*-1\n",
    "        return P\n",
    "    \n",
    "    def elementmult(self,N):\n",
    "        Size_M=self.Shape(self.M)\n",
    "        Size_N=self.Shape(N)\n",
    "        P=[[0.0] * self.m for i in range(self.n)]\n",
    "        if Size_M[0]==Size_N[0] and Size_M[1]==Size_N[1]:\n",
    "            for i in range(Size_M[0]):\n",
    "                for j in range(Size_M[1]):\n",
    "                    P[i][j]=self.M[i][j]*N[i][j]\n",
    "        else:\n",
    "            return \"failed\"\n",
    "        return P\n",
    "    \n",
    "    def __matmult__(self,N):\n",
    "        Size_M=self.Shape(self.M)\n",
    "        Size_N=self.Shape(N)\n",
    "        print Size_N\n",
    "        K=[[0] * Size_N[1] for i in range(Size_M[0])]\n",
    "        x=0\n",
    "        Hold_Sum=0\n",
    "        if Size_M[1]==Size_N[0]:\n",
    "            P=list(self.transpose())\n",
    "            for k in range(Size_M[0]):\n",
    "                for j in range(Size_N[1]):\n",
    "                    for i in range(Size_N[0]):\n",
    "                        Hold_num=P[i][k]*N[i][j]\n",
    "                        Hold_Sum=Hold_Sum+Hold_num \n",
    "                    K[k][j]=Hold_Sum\n",
    "                    Hold_Sum=0\n",
    "        else:\n",
    "            return \"Cannot be multiplied\"\n",
    "        return K\n",
    "    \n",
    "    def rand(self,n,m):\n",
    "        import random\n",
    "        K=[[0.0] * m for i in range(n)]\n",
    "        for i in range (n):\n",
    "            for j in range (m):\n",
    "                K[i][j]=random.random()\n",
    "   \n",
    "        return K\n",
    "\n",
    "class Vector(Matrix):\n",
    "    def __init__(self,A=list(),B=list()):\n",
    "        self.A=A\n",
    "        self.B=B\n",
    "        \n",
    "    def dot(self):\n",
    "        Size_A=len(self.A)\n",
    "        Size_B=len(self.B)\n",
    "        Hold_Sum=0\n",
    "        if Size_A==Size_B:\n",
    "            for i in range(Size_A):\n",
    "                Hold_Sum=Hold_Sum+(self.A[i]*self.B[i])\n",
    "        else:\n",
    "            \"failed\"\n",
    "        return Hold_Sum\n",
    "\n",
    "    def outer(self):\n",
    "        Size_A=len(self.A)\n",
    "        Size_B=len(self.B)\n",
    "        P=[[0] * len(self.A) for i in range(len(self.A))]\n",
    "        if Size_A==Size_B:\n",
    "            for i in range(Size_A):\n",
    "                for j in range(Size_A):\n",
    "                    P[i][j]=self.A[i]*self.B[j]\n",
    "        else:\n",
    "            \"failed\"\n",
    "        return P\n",
    "    \n",
    "    def inverse(self):\n",
    "        \n",
    "    \n",
    "    def norm(self,A,i):\n",
    "        import math\n",
    "        hold=0\n",
    "        for j in range(0,len(A)):\n",
    "            A[j]=abs(A[j])\n",
    "        if i==0:\n",
    "            for j in range(0,len(A)):\n",
    "                if [j]>hold:\n",
    "                    hold=A[j]\n",
    "            return hold\n",
    "\n",
    "\n",
    "        else:\n",
    "            for j in range(0,len(A)):\n",
    "                z=A[j]**i\n",
    "                hold=hold+z\n",
    "            hold=float(hold)**(1.0/i)\n",
    "            return hold\n"
   ]
  },
  {
   "cell_type": "code",
   "execution_count": null,
   "metadata": {},
   "outputs": [],
   "source": []
  }
 ],
 "metadata": {
  "kernelspec": {
   "display_name": "Python 2",
   "language": "python",
   "name": "python2"
  },
  "language_info": {
   "codemirror_mode": {
    "name": "ipython",
    "version": 2
   },
   "file_extension": ".py",
   "mimetype": "text/x-python",
   "name": "python",
   "nbconvert_exporter": "python",
   "pygments_lexer": "ipython2",
   "version": "2.7.15"
  }
 },
 "nbformat": 4,
 "nbformat_minor": 2
}
