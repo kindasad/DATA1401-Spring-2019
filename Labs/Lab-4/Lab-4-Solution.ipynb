{
 "cells": [
  {
   "cell_type": "markdown",
   "metadata": {},
   "source": [
    "## Lab 4\n",
    "\n",
    "In this lab we will become familiar with distributions, histograms, and functional programming. \n",
    "\n",
    "\n",
    "### Uniform Distribution\n",
    "Lets start with generating some fake random data. You can get a random number between 0 and 1 using the python random module as follow:"
   ]
  },
  {
   "cell_type": "code",
   "execution_count": 47,
   "metadata": {},
   "outputs": [
    {
     "name": "stdout",
     "output_type": "stream",
     "text": [
      "The Value of x is 0.15550768713\n"
     ]
    }
   ],
   "source": [
    "import random\n",
    "x=random.random()\n",
    "print \"The Value of x is\", x"
   ]
  },
  {
   "cell_type": "markdown",
   "metadata": {},
   "source": [
    "Everytime you call random, you will get a new number.\n",
    "\n",
    "*Exercise 1:* Using random, write a function `generate_uniform(N, mymin, mymax)`, that returns a python list containing N random numbers between specified minimum and maximum value. Note that you may want to quickly work out on paper how to turn numbers between 0 and 1 to between other values. "
   ]
  },
  {
   "cell_type": "code",
   "execution_count": 48,
   "metadata": {
    "collapsed": true
   },
   "outputs": [],
   "source": [
    "import random\n",
    "def generate_uniform(N,min,max):\n",
    "    out = []\n",
    "    c=0\n",
    "    while True:\n",
    "        x=random.random()*(max-min)+min\n",
    "        out.append(x)\n",
    "        c=c+1\n",
    "        if c==N:\n",
    "            break\n",
    "    return out"
   ]
  },
  {
   "cell_type": "code",
   "execution_count": 49,
   "metadata": {},
   "outputs": [
    {
     "name": "stdout",
     "output_type": "stream",
     "text": [
      "Data Type: <type 'list'>\n",
      "Data Length: 100\n",
      "Type of Data Contents: <type 'float'>\n",
      "Data Minimum: -9.96546588764\n",
      "Data Maximum: 9.95574648394\n",
      "[7.078367639084629, 6.853902321108919, -0.9849042896186404, 5.6018079470232625, -9.869495968641775, 9.955746483941226, -7.645243744110002, -7.767673538612751, -0.3301440241754854, 2.2944480655323556, -7.530903200094352, -4.80819357764692, -2.6201161442065946, 0.5998159158384748, -2.9002646146849127, 4.971660241914142, -6.8944762794056835, -2.199402072165899, -5.758539908980326, 7.446090489037857, 0.7500183719615539, -0.1092971192214236, 6.65122132952628, -1.5669747497990159, 8.28525375778461, -8.662244410726316, 5.836307430729242, 7.606111026719475, 0.9821180232076987, -7.645645713312385, -1.6837918273519286, -6.13672843372989, -8.114100052443401, -1.8919830399380402, -8.154956979730457, 1.0717128252596186, 9.153918442948143, -5.122206548015081, 6.762746845748495, -8.740206201278298, -9.523883481438913, 5.91637851625142, -0.7209143160320863, 4.190844267984408, -6.020142690286285, -4.549066306000283, -9.965465887635325, -2.4558975736262116, -2.1469759096223218, 6.751478089700335, -4.955931378441485, -2.1174054124891324, 3.1167212726407314, 7.279701049254282, -0.7627380230852552, 0.5305783421479209, -8.401645001384297, -6.74731674340843, 3.2939739256443694, -9.95530184924452, -0.24895063830993003, 4.105195885465951, -7.581489414111449, -6.7604800364087065, 1.3735699009380724, 6.404889121042068, -2.332862666443745, 2.560694461783635, -6.2001199776473825, 0.1279327654889073, -7.573079745729904, 6.497066018979048, 6.002720194891467, -0.5016742888636188, 4.417824273264305, 3.0916863158481753, 4.285274891553319, 5.883525234946029, -8.726759322279467, 0.9234474270265292, 0.2559200470951257, -0.6439100110573204, 9.64061412362313, 5.158354697398394, -2.499417273206264, -3.872275412544348, -2.1234844282857157, 7.225613612053191, -4.86341848880568, 1.2751728932600912, -1.5531968834722, 6.840540290637737, 0.9311957743623438, -0.6286133101736464, -0.14788187995693391, 3.8816297849616213, 7.782080620926852, 5.076805774710149, -9.47106914663593, -7.612141010884885]\n"
     ]
    }
   ],
   "source": [
    "# Test you solution here\n",
    "data=generate_uniform(100,-10,10)\n",
    "print \"Data Type:\", type(data)\n",
    "print \"Data Length:\", len(data)\n",
    "if len(data)>0: \n",
    "    print \"Type of Data Contents:\", type(data[0])\n",
    "    print \"Data Minimum:\", min(data)\n",
    "    print \"Data Maximum:\", max(data)\n",
    "    print data"
   ]
  },
  {
   "cell_type": "markdown",
   "metadata": {},
   "source": [
    "*Exercise 2a:* \n",
    "Write a function that computes the mean of values in a list."
   ]
  },
  {
   "cell_type": "code",
   "execution_count": 50,
   "metadata": {
    "collapsed": true
   },
   "outputs": [],
   "source": [
    "# Skeleton\n",
    "def mean(Data):\n",
    "    m=0.\n",
    "    \n",
    "    m=sum(Data)/len(Data)\n",
    "    \n",
    "    return m"
   ]
  },
  {
   "cell_type": "code",
   "execution_count": 51,
   "metadata": {},
   "outputs": [
    {
     "name": "stdout",
     "output_type": "stream",
     "text": [
      "Mean of Data: -0.420783242142\n"
     ]
    }
   ],
   "source": [
    "# Test your solution here\n",
    "print \"Mean of Data:\", mean(data)"
   ]
  },
  {
   "cell_type": "markdown",
   "metadata": {},
   "source": [
    "*Exercise 2b:* \n",
    "Write a function that computes the variance of values in a list."
   ]
  },
  {
   "cell_type": "code",
   "execution_count": 52,
   "metadata": {
    "collapsed": true
   },
   "outputs": [],
   "source": [
    "# Skeleton\n",
    "def variance(Data):\n",
    "    m=0.\n",
    "    a=sum(Data)/len(Data)\n",
    "    out=sum(map(lambda x:(x-a)**2,Data))\n",
    "    \n",
    "    m=out/len(Data) \n",
    "        \n",
    "     \n",
    "     \n",
    "    \n",
    "    return m"
   ]
  },
  {
   "cell_type": "code",
   "execution_count": 53,
   "metadata": {},
   "outputs": [
    {
     "name": "stdout",
     "output_type": "stream",
     "text": [
      "Variance of Data: 31.5170870892\n"
     ]
    }
   ],
   "source": [
    "# Test your solution here\n",
    "print \"Variance of Data:\", variance(data)"
   ]
  },
  {
   "cell_type": "markdown",
   "metadata": {},
   "source": [
    "## Histogramming"
   ]
  },
  {
   "cell_type": "markdown",
   "metadata": {},
   "source": [
    "*Exercise 3:* Write a function that bins the data so that you can create a histogram. An example of how to implement histogramming is the following logic:\n",
    "\n",
    "* User inputs a list of values `x` and optionally `n_bins` which defaults to 10.\n",
    "* If not supplied, find the minimum and maximum (`x_min`,`x_max`) of the values in x.\n",
    "* Determine the bin size (`bin_size`) by dividing the range of the function by the number of bins.\n",
    "* Create an empty list of zeros of size `n_bins`, call it `hist`.\n",
    "* Loop over the values in `x`\n",
    "    * Loop over the values in `hist` with index `i`:\n",
    "        * If x is between `x_min+i*bin_size` and `x_min+i*2*bin_size`, increment `hist[i].` \n",
    "        * For efficiency, try to use continue to goto the next bin and data point.\n",
    "* Return `hist` and the list corresponding of the bin edges (i.e. of `x_min+i*bin_size`).    "
   ]
  },
  {
   "cell_type": "code",
   "execution_count": 54,
   "metadata": {
    "collapsed": true
   },
   "outputs": [],
   "source": [
    "# Solution\n",
    "def histogram(x,n_bins=10,x_min=None,x_max=None):\n",
    "    \n",
    "    hist=[0]*n_bins\n",
    "    x_min=min(x)\n",
    "    x_max=max(x)\n",
    "    bin_edges=[0]*n_bins\n",
    "    bin_size=(x_max-x_min)/n_bins\n",
    "    for j in range (0,len(x)):\n",
    "        for i in range (0,len(hist)):\n",
    "            if x[j]>=(x_min+(i*bin_size)) and x[j]<=(x_min+((i+1)*bin_size)):\n",
    "                hist[i]+=1\n",
    "                bin_edges[i]=x_min+(i*bin_size)\n",
    "                continue\n",
    "\n",
    "    # Fill in your solution here        \n",
    "    \n",
    "    ### END SOLUTION\n",
    "\n",
    "    return hist,bin_edges"
   ]
  },
  {
   "cell_type": "code",
   "execution_count": 55,
   "metadata": {},
   "outputs": [
    {
     "name": "stdout",
     "output_type": "stream",
     "text": [
      "[3, 0, 2, 0, 0, 0, 3, 1, 0, 2, 0, 5, 2, 0, 0, 1, 2, 0, 1, 2, 0, 1, 0, 0, 1, 3, 0, 1, 0, 0, 1, 0, 0, 0, 0, 1, 1, 2, 2, 3, 1, 1, 2, 0, 0, 1, 4, 1, 2, 2, 1, 1, 1, 2, 3, 1, 2, 0, 0, 0, 0, 1, 1, 0, 0, 2, 1, 0, 0, 1, 1, 2, 1, 0, 1, 2, 0, 0, 1, 3, 1, 0, 2, 3, 2, 1, 2, 1, 1, 1, 0, 1, 0, 0, 0, 1, 0, 0, 1, 1] [-9.965465887635325, 0, -9.567041640203794, 0, 0, 0, -8.770193145340732, -8.570981021624966, 0, -8.172556774193435, 0, -7.774132526761905, -7.574920403046139, 0, 0, -6.977284031898842, -6.778071908183077, 0, -6.379647660751546, -6.18043553703578, 0, -5.78201128960425, 0, 0, -5.184374918456953, -4.985162794741187, 0, -4.586738547309656, 0, 0, -3.9891021761623593, 0, 0, 0, 0, -2.993041557583532, -2.7938294338677663, -2.5946173101520014, -2.3954051864362356, -2.1961930627204698, -1.996980939004704, -1.7977688152889382, -1.5985566915731741, 0, 0, -1.0009203204258768, -0.801708196710111, -0.6024960729943452, -0.40328394927858113, -0.20407182556281533, -0.004859701847049536, 0.19435242186871626, 0.39356454558448206, 0.5927766693002479, 0.7919887930160137, 0.9912009167317777, 1.1904130404475435, 0, 0, 0, 0, 2.1864736590263707, 2.3856857827421365, 0, 0, 2.983322153889434, 3.1825342776051997, 0, 0, 3.7801706487524953, 3.979382772468261, 4.178594896184027, 4.377807019899793, 0, 4.7762312673313225, 4.975443391047088, 0, 0, 5.573079762194386, 5.7722918859101515, 5.971504009625917, 0, 6.369928257057449, 6.569140380773213, 6.768352504488977, 6.9675646282047445, 7.166776751920509, 7.365988875636276, 7.56520099935204, 7.764413123067808, 0, 8.162837370499336, 0, 0, 0, 8.959685865362399, 0, 0, 9.557322236509695, 9.756534360225462]\n"
     ]
    }
   ],
   "source": [
    "# Test your solution here\n",
    "h,b=histogram(data,100)\n",
    "print h,b\n",
    " "
   ]
  },
  {
   "cell_type": "markdown",
   "metadata": {},
   "source": [
    "*Exercise 4:* Write a function that uses the histogram function in the previous exercise to create a text-based \"graph\". For example the output could look like the following:\n",
    "```\n",
    "[  0,  9] : ######\n",
    "[  1,  2] : #####\n",
    "[  2,  3] : ######\n",
    "[  3,  4] : ####\n",
    "[  4,  5] : ####\n",
    "[  5,  6] : ######\n",
    "[  6,  7] : #####\n",
    "[  7,  8] : ######\n",
    "[  8,  9] : ####\n",
    "[  9, 10] : #####\n",
    "```\n",
    "\n",
    "Where each line corresponds to a bin and the number of `#`'s are proportional to the value of the data in the bin. "
   ]
  },
  {
   "cell_type": "code",
   "execution_count": 56,
   "metadata": {
    "collapsed": true
   },
   "outputs": [],
   "source": [
    "# Solution\n",
    "def draw_histogram(x,n_bins,x_min=None,x_max=None,character=\"#\",max_character_per_line=50):\n",
    "    ### BEGIN SOLUTION\n",
    "    hist=[0]*n_bins\n",
    "    x_min=min(x)\n",
    "    x_max=max(x)\n",
    "    bin_edges=[0]*n_bins\n",
    "    bin_size=(x_max-x_min)/n_bins\n",
    "    for j in range (0,len(x)):\n",
    "        for i in range (0,len(hist)):\n",
    "            bin_edges[i]=x_min+(i*bin_size)\n",
    "            if x[j]>=(x_min+(i*bin_size)) and x[j]<=(x_min+((i+1)*bin_size)):\n",
    "                hist[i]+=1\n",
    "                continue\n",
    "             \n",
    "            \n",
    "                 \n",
    "    \n",
    "    bin_edges.append(x_max)\n",
    "    a=max_character_per_line/max(hist)\n",
    "    print a\n",
    "    for i in range (0,len(hist)):\n",
    "        b=a*hist[i]\n",
    "        \n",
    "        c=b*character\n",
    "        print '['+str(bin_edges[i])+','+str(bin_edges[i+1])+']'+c\n",
    "        \n",
    "    \n",
    "    ### END SOLUTION\n",
    "\n",
    "    return hist,bin_edges"
   ]
  },
  {
   "cell_type": "code",
   "execution_count": 57,
   "metadata": {},
   "outputs": [
    {
     "name": "stdout",
     "output_type": "stream",
     "text": [
      "5\n",
      "[-9.96546588764,-8.96940526906]#########################\n",
      "[-8.96940526906,-7.97334465048]##############################\n",
      "[-7.97334465048,-6.9772840319]###################################\n",
      "[-6.9772840319,-5.98122341332]##############################\n",
      "[-5.98122341332,-4.98516279474]##########\n",
      "[-4.98516279474,-3.98910217616]####################\n",
      "[-3.98910217616,-2.99304155758]#####\n",
      "[-2.99304155758,-1.996980939]#############################################\n",
      "[-1.996980939,-1.00092032043]####################\n",
      "[-1.00092032043,-0.00485970184705]##################################################\n",
      "[-0.00485970184705,0.991200916732]########################################\n",
      "[0.991200916732,1.98726153531]###############\n",
      "[1.98726153531,2.98332215389]##########\n",
      "[2.98332215389,3.97938277247]####################\n",
      "[3.97938277247,4.97544339105]#########################\n",
      "[4.97544339105,5.97150400963]##############################\n",
      "[5.97150400963,6.9675646282]########################################\n",
      "[6.9675646282,7.96362524678]##############################\n",
      "[7.96362524678,8.95968586536]#####\n",
      "[8.95968586536,9.95574648394]###############\n"
     ]
    }
   ],
   "source": [
    "# Test your solution here\n",
    "h,b=draw_histogram(data,20)\n"
   ]
  },
  {
   "cell_type": "markdown",
   "metadata": {},
   "source": [
    "## Functional Programming\n",
    "\n",
    "*Exercise 5:* Write a function the applies a booling function (that returns true/false) to every element in data, and return a list of indices of elements where the result was true. Use this function to find the indices of entries greater than 0.5. "
   ]
  },
  {
   "cell_type": "code",
   "execution_count": 58,
   "metadata": {
    "collapsed": true
   },
   "outputs": [],
   "source": [
    "def where(mylist,myfunc):\n",
    "    out= []\n",
    "    \n",
    "    ### BEGIN SOLUTION\n",
    "    x=map(myfunc,mylist)\n",
    "    for i in range (0,len(mylist)):\n",
    "        if x[i]==True:\n",
    "            out.append(i)\n",
    "    ### END SOLUTION\n",
    "    \n",
    "    return out"
   ]
  },
  {
   "cell_type": "code",
   "execution_count": 59,
   "metadata": {},
   "outputs": [
    {
     "name": "stdout",
     "output_type": "stream",
     "text": [
      "[0, 1, 2, 5]\n"
     ]
    }
   ],
   "source": [
    "# Test your solution here\n",
    "def gg(x):\n",
    "    if x>0.5:\n",
    "        return True\n",
    "    return False \n",
    "a=(1,3,2,0.1,0.2,12)\n",
    "print(where(a,gg))"
   ]
  },
  {
   "cell_type": "markdown",
   "metadata": {},
   "source": [
    "*Exercise 6:* The inrange(mymin,mymax) function below returns a function that tests if it's input is between the specified values. Write corresponding functions that test:\n",
    "* Even\n",
    "* Odd\n",
    "* Greater than\n",
    "* Less than\n",
    "* Equal\n",
    "* Divisible by"
   ]
  },
  {
   "cell_type": "code",
   "execution_count": 60,
   "metadata": {},
   "outputs": [
    {
     "name": "stdout",
     "output_type": "stream",
     "text": [
      "True True False False False\n",
      "False False True True False\n",
      "Number of Entries passing F1: 46\n",
      "Number of Entries passing F2: 0\n"
     ]
    }
   ],
   "source": [
    "def inrange(mymin,mymax):\n",
    "    def testrange(x):\n",
    "        return x<mymax and x>=mymin\n",
    "    return testrange\n",
    "\n",
    "# Examples:\n",
    "F1=inrange(0,10)\n",
    "F2=inrange(10,20)\n",
    "\n",
    "# Test of in_range\n",
    "print F1(0), F1(1), F1(10), F1(15), F1(20)\n",
    "print F2(0), F2(1), F2(10), F2(15), F2(20)\n",
    "\n",
    "print \"Number of Entries passing F1:\", len(where(data,F1))\n",
    "print \"Number of Entries passing F2:\", len(where(data,F2))"
   ]
  },
  {
   "cell_type": "code",
   "execution_count": 89,
   "metadata": {
    "collapsed": true
   },
   "outputs": [],
   "source": [
    "### BEGIN SOLUTION\n",
    "def even(x):\n",
    "    out=[]\n",
    "    for i in range (0,len(x)):\n",
    "        if (x[i]%2)==0:\n",
    "            out.append(x[i])\n",
    "    return out\n",
    "\n",
    "def odd(x):\n",
    "    out=[]\n",
    "    for i in range (0,len(x)):\n",
    "        if (x[i]%2)!=0:\n",
    "            out.append(x[i])\n",
    "    return out\n",
    "\n",
    "def greater(mylist,y):\n",
    "    out=[]\n",
    "    for i in range (0,len(mylist)):\n",
    "        if mylist[i]>y:\n",
    "            out.append(mylist[i])\n",
    "    return out\n",
    "\n",
    "def smaller(mylist,y):\n",
    "    out=[]\n",
    "    for i in range (0,len(mylist)):\n",
    "        if mylist[i]<y:\n",
    "            out.append(mylist[i])\n",
    "    return out\n",
    "\n",
    "def equal(mylist,y):\n",
    "    out=map(lambda x:x==y, mylist)\n",
    "    return out\n",
    "def div(x):\n",
    "    out=[]\n",
    "    for i in range (1,x+1):\n",
    "        if (x%i)==0:\n",
    "            out.append(i)\n",
    "    return out\n",
    "### END SOLUTION"
   ]
  },
  {
   "cell_type": "code",
   "execution_count": 90,
   "metadata": {},
   "outputs": [
    {
     "name": "stdout",
     "output_type": "stream",
     "text": [
      "[2, 4]\n",
      "[1, 3, 5]\n",
      "[4, 5]\n",
      "[1, 2]\n",
      "[1, 3, 9]\n"
     ]
    }
   ],
   "source": [
    "print even((1,2,3,4,5))\n",
    "print odd((1,2,3,4,5))\n",
    "print greater((1,2,3,4,5),3)\n",
    "print smaller((1,2,3,4,5),3)\n",
    "print div(9)"
   ]
  },
  {
   "cell_type": "markdown",
   "metadata": {},
   "source": [
    "*Exercise 7:* Repeat the previous exercise using `lambda` and the built-in python functions sum and map instead of your solution above. "
   ]
  },
  {
   "cell_type": "code",
   "execution_count": 91,
   "metadata": {},
   "outputs": [
    {
     "name": "stdout",
     "output_type": "stream",
     "text": [
      "Number of Entries passing F1: 46\n"
     ]
    }
   ],
   "source": [
    "def whereA(mylist,F1):\n",
    "     \n",
    "    \n",
    "    ### BEGIN SOLUTION\n",
    "    out=sum(map(F1,mylist))\n",
    "    ### END SOLUTION\n",
    "    \n",
    "    return out\n",
    "\n",
    "print \"Number of Entries passing F1:\", whereA(data,F1)"
   ]
  },
  {
   "cell_type": "markdown",
   "metadata": {},
   "source": [
    "## Monte Carlo\n",
    "\n",
    "*Exercise 7:* Write a \"generator\" function called `generate_function(func,x_min,x_max,N)`, that instead of generating a flat distribution, generates a distribution with functional form coded in `func`. Note that `func` will always be > 0.  \n",
    "\n",
    "Use the test function below and your histogramming functions above to demonstrate that your generator is working properly.\n",
    "\n",
    "Hint: A simple, but slow, solution is to a draw random number test_x within the specified range and another number p between the min and max of the function (which you will have to determine). If p<=function(test_x), then place test_x on the output. If not, repeat the process, drawing two new numbers. Repeat until you have the specified number of generated numbers, N. For this problem, it's OK to determine the min and max by numerically sampling the function.  "
   ]
  },
  {
   "cell_type": "code",
   "execution_count": 92,
   "metadata": {
    "collapsed": true
   },
   "outputs": [],
   "source": [
    "def generate_function(func,mymin,mymax,N):\n",
    "    out = list()\n",
    "    ### BEGIN SOLUTION\n",
    "    \n",
    "    l = map(func, generate_uniform(N, mymin, mymax))\n",
    "    pmin = min(l)\n",
    "    pmax = max(l)\n",
    "\n",
    "    while True:\n",
    "        number=random.random()*(mymax - mymin) + mymin\n",
    "        \n",
    "        p=random.random()*(pmax - pmin) + pmin\n",
    "        a=func(number)\n",
    "        \n",
    "        if p<=a:\n",
    "            out.append(number)\n",
    "            \n",
    "        if len(out)==N:\n",
    "            break\n",
    "    \n",
    "    ### END SOLUTION\n",
    "    \n",
    "    return out"
   ]
  },
  {
   "cell_type": "code",
   "execution_count": 93,
   "metadata": {},
   "outputs": [
    {
     "name": "stdout",
     "output_type": "stream",
     "text": [
      "1\n",
      "[-9.99118079237,-8.9916699057]#####################\n",
      "[-8.9916699057,-7.99215901903]#########################\n",
      "[-7.99215901903,-6.99264813237]############\n",
      "[-6.99264813237,-5.9931372457]##############\n",
      "[-5.9931372457,-4.99362635903]###############\n",
      "[-4.99362635903,-3.99411547236]#########\n",
      "[-3.99411547236,-2.9946045857]######\n",
      "[-2.9946045857,-1.99509369903]####\n",
      "[-1.99509369903,-0.99558281236]#\n",
      "[-0.99558281236,0.00392807430767]###\n",
      "[0.00392807430767,1.00343896098]##\n",
      "[1.00343896098,2.00294984764]######\n",
      "[2.00294984764,3.00246073431]#########\n",
      "[3.00246073431,4.00197162098]#############\n",
      "[4.00197162098,5.00148250765]##################\n",
      "[5.00148250765,6.00099339431]############\n",
      "[6.00099339431,7.00050428098]############\n",
      "[7.00050428098,8.00001516765]###################\n",
      "[8.00001516765,8.99952605432]#######################\n",
      "[8.99952605432,9.99903694099]##########################\n"
     ]
    }
   ],
   "source": [
    "# A test function\n",
    "def test_func(x,a=1,b=1):\n",
    "    return abs(a*x+b)\n",
    "\n",
    "da=generate_function(test_func,-10,10,250)\n",
    "#print da\n",
    "h,b=histogram(da,10)\n",
    "#print h\n",
    "h,b=draw_histogram(da,20)"
   ]
  },
  {
   "cell_type": "markdown",
   "metadata": {},
   "source": [
    "*Exercise 8:* Use your function to generate 1000 numbers that are normal distributed, using the `gaussian` function below. Confirm the mean and variance of the data is close to the mean and variance you specify when building the Gaussian. Histogram the data. "
   ]
  },
  {
   "cell_type": "code",
   "execution_count": 94,
   "metadata": {},
   "outputs": [
    {
     "name": "stdout",
     "output_type": "stream",
     "text": [
      "1\n",
      "[-5.87424680408,-5.29774932539]##\n",
      "[-5.29774932539,-4.72125184671]#\n",
      "[-4.72125184671,-4.14475436802]#\n",
      "[-4.14475436802,-3.56825688933]##\n",
      "[-3.56825688933,-2.99175941064]##\n",
      "[-2.99175941064,-2.41526193195]#########\n",
      "[-2.41526193195,-1.83876445327]###################\n",
      "[-1.83876445327,-1.26226697458]#######################\n",
      "[-1.26226697458,-0.685769495891]###########################\n",
      "[-0.685769495891,-0.109272017203]########################\n",
      "[-0.109272017203,0.467225461485]##################################\n",
      "[0.467225461485,1.04372294017]##############################\n",
      "[1.04372294017,1.62022041886]#################\n",
      "[1.62022041886,2.19671789755]###########################\n",
      "[2.19671789755,2.77321537624]##########\n",
      "[2.77321537624,3.34971285493]######\n",
      "[3.34971285493,3.92621033361]####\n",
      "[3.92621033361,4.5027078123]###\n",
      "[4.5027078123,5.07920529099]######\n",
      "[5.07920529099,5.65570276968]###\n",
      "[2, 1, 1, 2, 2, 9, 19, 23, 27, 24, 34, 30, 17, 27, 10, 6, 4, 3, 6, 3]\n"
     ]
    }
   ],
   "source": [
    "import math\n",
    "\n",
    "def gaussian(mean, sigma):\n",
    "    def f(x):\n",
    "        \n",
    "        return math.exp(-((x-mean)**2)/(2*sigma**2))/math.sqrt(math.pi*sigma)\n",
    "    return f\n",
    "\n",
    "# Example Instantiation\n",
    "g1=gaussian(0,2)\n",
    "g2=gaussian(10,3)\n",
    "dat=generate_function(g1,-10,10,250)\n",
    "h,b=draw_histogram(dat,20)\n",
    "print h"
   ]
  },
  {
   "cell_type": "markdown",
   "metadata": {},
   "source": [
    "*Exercise 9:* Combine your `generate_function`, `where`, and `in_range` functions above to create an integrate function. Use your integrate function to show that approximately 68% of Normal distribution is within one variance."
   ]
  },
  {
   "cell_type": "code",
   "execution_count": 95,
   "metadata": {
    "collapsed": true
   },
   "outputs": [],
   "source": [
    "def integrate(func, x_min, x_max, n_points=1000):\n",
    "    size=(x_max-x_min)/n_points\n",
    "    print \"size \"+str(size)\n",
    "    sum=0\n",
    "    \n",
    "    for i in range (0,n_points-1):\n",
    "        a=abs(func(x_min+i*size)+func(x_min+(i+1)*size))\n",
    "        s=a*size/2\n",
    "        sum+=s\n",
    "    integral=sum\n",
    "    return integral"
   ]
  },
  {
   "cell_type": "code",
   "execution_count": 96,
   "metadata": {},
   "outputs": [
    {
     "name": "stdout",
     "output_type": "stream",
     "text": [
      "size 0.01\n",
      "49.90005\n"
     ]
    }
   ],
   "source": [
    "def fun(x):\n",
    "    return x\n",
    "print(integrate(fun,0.0,10.0))"
   ]
  },
  {
   "cell_type": "code",
   "execution_count": 97,
   "metadata": {},
   "outputs": [
    {
     "name": "stdout",
     "output_type": "stream",
     "text": [
      "size 0.004\n",
      "1.36440981087\n"
     ]
    }
   ],
   "source": [
    " print(integrate(g1,-2.0,2.0))"
   ]
  },
  {
   "cell_type": "code",
   "execution_count": 98,
   "metadata": {},
   "outputs": [
    {
     "name": "stdout",
     "output_type": "stream",
     "text": [
      "size 0.02\n",
      "1.99999882265\n"
     ]
    }
   ],
   "source": [
    "print(integrate(g1,-10.0,10.0))"
   ]
  },
  {
   "cell_type": "code",
   "execution_count": 46,
   "metadata": {},
   "outputs": [
    {
     "name": "stdout",
     "output_type": "stream",
     "text": [
      "0.682205307032\n"
     ]
    }
   ],
   "source": [
    "a=1.36440981087/1.99999882265\n",
    "print a"
   ]
  },
  {
   "cell_type": "code",
   "execution_count": null,
   "metadata": {
    "collapsed": true
   },
   "outputs": [],
   "source": []
  }
 ],
 "metadata": {
  "kernelspec": {
   "display_name": "Python 2",
   "language": "python",
   "name": "python2"
  },
  "language_info": {
   "codemirror_mode": {
    "name": "ipython",
    "version": 2
   },
   "file_extension": ".py",
   "mimetype": "text/x-python",
   "name": "python",
   "nbconvert_exporter": "python",
   "pygments_lexer": "ipython2",
   "version": "2.7.15"
  }
 },
 "nbformat": 4,
 "nbformat_minor": 2
}
