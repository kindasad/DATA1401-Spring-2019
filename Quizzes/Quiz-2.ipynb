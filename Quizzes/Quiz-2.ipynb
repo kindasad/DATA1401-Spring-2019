{
 "cells": [
  {
   "cell_type": "code",
   "execution_count": 80,
   "metadata": {},
   "outputs": [],
   "source": [
    "from gradebook import *\n",
    "def mean(x):\n",
    "    return sum(x)/float(len(x))\n",
    "\n",
    "def stand(x):\n",
    "    return (sum(map(lambda y:y**2, x))/float(len(x))-mean(x)**2)**(0.5)\n",
    " \n",
    "    \n",
    "class curved_letter_grader:\n",
    "    \n",
    "    def __init__(self,mean,stand ):\n",
    "         \n",
    "        self.__mean=mean\n",
    "        self.__stand=stand\n",
    "        self.definition=[ (self.__mean+ self.__stand,\"A\"),\n",
    "                          (self.__mean,\"B\"),\n",
    "                          (self.__mean- self.__stand,\"C\"),\n",
    "                          (self.__mean- self.__stand*2,\"D\"),\n",
    "                          (self.__mean- self.__stand*3,\"F\"),]       \n",
    "    \n",
    "    def print_def(self,i):\n",
    "         return self.definition[i][0],self.definition[i][1]\n",
    "    \n",
    "    def applyer(self,grade):\n",
    "         \n",
    "         \n",
    "        for i in range(0,5):\n",
    "            \n",
    "            if grade>=self.definition[i][0]:\n",
    "                return   self.definition[i][1]\n",
    "                 \n",
    "\n",
    "             \n",
    "\n",
    "                           \n",
    "                           \n",
    "                           \n",
    "\n",
    "\n"
   ]
  },
  {
   "cell_type": "code",
   "execution_count": 81,
   "metadata": {},
   "outputs": [],
   "source": [
    "a=[89.0,60.0,70.0,60.0,100.0,90.0,95.0]\n",
    "b=mean(a)\n",
    "c=stand(a)\n",
    " \n"
   ]
  },
  {
   "cell_type": "code",
   "execution_count": 82,
   "metadata": {},
   "outputs": [
    {
     "name": "stdout",
     "output_type": "stream",
     "text": [
      "Letter grade scale\n",
      "96.1723181327 A\n",
      "80.5714285714 B\n",
      "64.9705390102 C\n",
      "49.3696494489 D\n",
      "33.7687598877 F\n",
      "['B', 'D', 'C', 'D', 'A', 'B', 'B']\n"
     ]
    }
   ],
   "source": [
    "d=curved_letter_grader(b,c)\n",
    "letter_grade=map(d.applyer,a)\n",
    "print 'Letter grade scale'\n",
    "for i in range(0,5): \n",
    "    a,b=d.print_def(i)\n",
    "    print a,b\n",
    "    \n",
    "print letter_grade"
   ]
  },
  {
   "cell_type": "code",
   "execution_count": null,
   "metadata": {},
   "outputs": [],
   "source": [
    " "
   ]
  },
  {
   "cell_type": "code",
   "execution_count": null,
   "metadata": {},
   "outputs": [],
   "source": []
  },
  {
   "cell_type": "code",
   "execution_count": null,
   "metadata": {},
   "outputs": [],
   "source": []
  }
 ],
 "metadata": {
  "kernelspec": {
   "display_name": "Python 2",
   "language": "python",
   "name": "python2"
  },
  "language_info": {
   "codemirror_mode": {
    "name": "ipython",
    "version": 2
   },
   "file_extension": ".py",
   "mimetype": "text/x-python",
   "name": "python",
   "nbconvert_exporter": "python",
   "pygments_lexer": "ipython2",
   "version": "2.7.15"
  }
 },
 "nbformat": 4,
 "nbformat_minor": 2
}
