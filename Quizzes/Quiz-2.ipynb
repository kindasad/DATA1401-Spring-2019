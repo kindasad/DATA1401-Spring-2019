{
 "cells": [
  {
   "cell_type": "code",
   "execution_count": 16,
   "metadata": {},
   "outputs": [],
   "source": [
    "from gradebook import *\n",
    "def mean(x):\n",
    "    return sum(x)/float(len(x))\n",
    "\n",
    "def stand(x):\n",
    "    return (sum(map(lambda y:y**2, x))/float(len(x))-mean(x)**2)**(0.5)\n",
    " \n",
    "    \n",
    "class curved_letter_grader:\n",
    "    \n",
    "    def __init__(self,mean,stand ):\n",
    "         \n",
    "        self.__mean=mean\n",
    "        self.__stand=stand\n",
    "        self.definition=[ (self.__mean+ self.__stand,\"A\"),\n",
    "                          (self.__mean,\"B\"),\n",
    "                          (self.__mean- self.__stand,\"C\"),\n",
    "                          (self.__mean- self.__stand*2,\"D\"),\n",
    "                          (self.__mean- self.__stand*3,\"F\"),]       \n",
    "    \n",
    "    def print_def(self,i):\n",
    "         return self.definition[i][0],self.definition[i][1]\n",
    "    \n",
    "    def applyer(self,grade):\n",
    "         \n",
    "         \n",
    "        for i in range(0,5):\n",
    "            \n",
    "            if grade>=self.definition[i][0]:\n",
    "                return   self.definition[i][1]\n",
    "                 \n",
    "\n",
    "             \n",
    "\n",
    "                           \n",
    "                           \n",
    "                           \n",
    "\n",
    "\n"
   ]
  },
  {
   "cell_type": "code",
   "execution_count": 23,
   "metadata": {},
   "outputs": [
    {
     "name": "stdout",
     "output_type": "stream",
     "text": [
      "[35.0, 20.0, 115.0, 24.0, 95.0, 37.0, 77.0, 103.0, 117.0, 138.0, 110.0, 104.0, 111.0, 103.0, 134.0]\n",
      "38.4745803529\n"
     ]
    }
   ],
   "source": [
    "a=[35.0, 0.0, 20.0, 115.0, 24.0, 95.0, 37.0, 77.0, 103.0, 117.0, 138.0, 110.0, 104.0, 111.0, 103.0, 134.0]\n",
    "del a[1]\n",
    "print a\n",
    "b=mean(a)\n",
    "c=stand(a)\n",
    "print c\n",
    " \n"
   ]
  },
  {
   "cell_type": "code",
   "execution_count": 18,
   "metadata": {},
   "outputs": [
    {
     "name": "stdout",
     "output_type": "stream",
     "text": [
      "Letter grade scale\n",
      "125.624545121 A\n",
      "82.6875 B\n",
      "39.7504548787 C\n",
      "-3.18659024263 D\n",
      "-46.123635364 F\n",
      "['D', 'D', 'D', 'B', 'D', 'B', 'D', 'C', 'B', 'B', 'A', 'B', 'B', 'B', 'B', 'A']\n"
     ]
    }
   ],
   "source": [
    "d=curved_letter_grader(b,c)\n",
    "letter_grade=map(d.applyer,a)\n",
    "print 'Letter grade scale'\n",
    "for i in range(0,5): \n",
    "    a,b=d.print_def(i)\n",
    "    print a,b\n",
    "    \n",
    "print letter_grade"
   ]
  },
  {
   "cell_type": "code",
   "execution_count": null,
   "metadata": {},
   "outputs": [],
   "source": [
    " "
   ]
  },
  {
   "cell_type": "code",
   "execution_count": null,
   "metadata": {},
   "outputs": [],
   "source": []
  },
  {
   "cell_type": "code",
   "execution_count": null,
   "metadata": {},
   "outputs": [],
   "source": []
  }
 ],
 "metadata": {
  "kernelspec": {
   "display_name": "Python 2",
   "language": "python",
   "name": "python2"
  },
  "language_info": {
   "codemirror_mode": {
    "name": "ipython",
    "version": 2
   },
   "file_extension": ".py",
   "mimetype": "text/x-python",
   "name": "python",
   "nbconvert_exporter": "python",
   "pygments_lexer": "ipython2",
   "version": "2.7.15"
  }
 },
 "nbformat": 4,
 "nbformat_minor": 2
}
